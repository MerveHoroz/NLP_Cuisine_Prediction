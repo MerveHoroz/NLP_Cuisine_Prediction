{
 "cells": [
  {
   "cell_type": "code",
   "execution_count": 91,
   "metadata": {},
   "outputs": [],
   "source": [
    "import pandas as pd\n",
    "import numpy as np\n",
    "\n",
    "import nltk\n",
    "from nltk import FreqDist\n",
    "from nltk.tokenize import RegexpTokenizer\n",
    "from nltk.corpus import stopwords\n",
    "\n",
    "from sklearn.feature_extraction.text import TfidfVectorizer\n",
    "from sklearn.feature_extraction.text import CountVectorizer\n",
    "\n",
    "from sklearn.linear_model import LogisticRegression\n",
    "from sklearn.svm import LinearSVC\n",
    "from sklearn.naive_bayes import GaussianNB\n",
    "from sklearn.naive_bayes import MultinomialNB\n",
    "from sklearn.naive_bayes import BernoulliNB\n",
    "from sklearn.linear_model import SGDClassifier\n",
    "from sklearn.ensemble import RandomForestClassifier, AdaBoostClassifier\n",
    "\n",
    "from sklearn.model_selection import GridSearchCV\n",
    "\n",
    "from sklearn.model_selection import cross_val_score, train_test_split\n",
    "from sklearn.metrics import accuracy_score\n",
    "\n",
    "from sklearn.metrics import confusion_matrix\n",
    "\n",
    "import string\n",
    "import re\n",
    "\n",
    "import matplotlib.pyplot as plt\n",
    "import seaborn as sns\n",
    "\n",
    "from wordcloud import WordCloud\n",
    "%matplotlib inline\n",
    "\n",
    "from sklearn.preprocessing import LabelEncoder\n",
    "\n",
    "import warnings\n",
    "warnings.filterwarnings('ignore')"
   ]
  },
  {
   "cell_type": "code",
   "execution_count": 92,
   "metadata": {},
   "outputs": [],
   "source": [
    "df1 = pd.read_pickle(\"/Users/mervehoroz/Desktop/ISDSA_projects/proje4/cuisinedata.pkl\")"
   ]
  },
  {
   "cell_type": "code",
   "execution_count": 93,
   "metadata": {},
   "outputs": [
    {
     "data": {
      "text/plain": [
       "'le = LabelEncoder()\\ndf1[\"Cuisine\"] = le.fit_transform(df1[\"Cuisine\"])'"
      ]
     },
     "execution_count": 93,
     "metadata": {},
     "output_type": "execute_result"
    }
   ],
   "source": [
    "\"\"\"le = LabelEncoder()\n",
    "df1[\"Cuisine\"] = le.fit_transform(df1[\"Cuisine\"])\"\"\""
   ]
  },
  {
   "cell_type": "code",
   "execution_count": 94,
   "metadata": {},
   "outputs": [
    {
     "data": {
      "text/html": [
       "<div>\n",
       "<style scoped>\n",
       "    .dataframe tbody tr th:only-of-type {\n",
       "        vertical-align: middle;\n",
       "    }\n",
       "\n",
       "    .dataframe tbody tr th {\n",
       "        vertical-align: top;\n",
       "    }\n",
       "\n",
       "    .dataframe thead th {\n",
       "        text-align: right;\n",
       "    }\n",
       "</style>\n",
       "<table border=\"1\" class=\"dataframe\">\n",
       "  <thead>\n",
       "    <tr style=\"text-align: right;\">\n",
       "      <th></th>\n",
       "      <th>index</th>\n",
       "      <th>Ingredients</th>\n",
       "      <th>Explanation</th>\n",
       "      <th>Method</th>\n",
       "      <th>Cuisine</th>\n",
       "    </tr>\n",
       "  </thead>\n",
       "  <tbody>\n",
       "    <tr>\n",
       "      <th>0</th>\n",
       "      <td>0</td>\n",
       "      <td>4 x 300g/10½oz aged sirloin steaks 4 tbsp oliv...</td>\n",
       "      <td>This steak recipe works as a quick and easy mi...</td>\n",
       "      <td>MethodSeason the steaks with salt and pepper a...</td>\n",
       "      <td>Asian</td>\n",
       "    </tr>\n",
       "    <tr>\n",
       "      <th>1</th>\n",
       "      <td>1</td>\n",
       "      <td>4 thick salmon steaks2.5cm/1in piece root ging...</td>\n",
       "      <td>None</td>\n",
       "      <td>MethodPut the fish steaks in a fairly shallow ...</td>\n",
       "      <td>Asian</td>\n",
       "    </tr>\n",
       "    <tr>\n",
       "      <th>2</th>\n",
       "      <td>2</td>\n",
       "      <td>For the beef2 onions, peeled, quartered5cm/2in...</td>\n",
       "      <td>The point of a stew, it should go without sayi...</td>\n",
       "      <td>MethodPreheat the oven to 150C/300F/Gas 2. For...</td>\n",
       "      <td>Asian</td>\n",
       "    </tr>\n",
       "    <tr>\n",
       "      <th>3</th>\n",
       "      <td>3</td>\n",
       "      <td>For the pulled pork5 tbsp soy sauce 4 tbsp chi...</td>\n",
       "      <td>This recipe is perfect for when you have a gan...</td>\n",
       "      <td>MethodPreheat the oven to 150C/130C Fan/Gas 2....</td>\n",
       "      <td>Asian</td>\n",
       "    </tr>\n",
       "    <tr>\n",
       "      <th>4</th>\n",
       "      <td>4</td>\n",
       "      <td>For the marinade5 spring onions, roughly chopp...</td>\n",
       "      <td>Lime, mint and basil bring a refreshing twist ...</td>\n",
       "      <td>MethodIn a large bowl, mix together the spring...</td>\n",
       "      <td>Asian</td>\n",
       "    </tr>\n",
       "    <tr>\n",
       "      <th>...</th>\n",
       "      <td>...</td>\n",
       "      <td>...</td>\n",
       "      <td>...</td>\n",
       "      <td>...</td>\n",
       "      <td>...</td>\n",
       "    </tr>\n",
       "    <tr>\n",
       "      <th>5898</th>\n",
       "      <td>5898</td>\n",
       "      <td>2 cups balsamic vinegar4 extra large sea scall...</td>\n",
       "      <td>None</td>\n",
       "      <td>In a s...</td>\n",
       "      <td>Greek</td>\n",
       "    </tr>\n",
       "    <tr>\n",
       "      <th>5899</th>\n",
       "      <td>5899</td>\n",
       "      <td>1 3/4 cups all purpose flour1/3 cup powdered s...</td>\n",
       "      <td>This candy-like tart with hints of rose, orang...</td>\n",
       "      <td>Blend ...</td>\n",
       "      <td>Greek</td>\n",
       "    </tr>\n",
       "    <tr>\n",
       "      <th>5900</th>\n",
       "      <td>5900</td>\n",
       "      <td>a 1-pound firm eggplantolive oil for brushing ...</td>\n",
       "      <td>None</td>\n",
       "      <td>Prehea...</td>\n",
       "      <td>Greek</td>\n",
       "    </tr>\n",
       "    <tr>\n",
       "      <th>5901</th>\n",
       "      <td>5901</td>\n",
       "      <td>1 pound ground lamb (not too lean)1/4 cup minc...</td>\n",
       "      <td>Can be prepared in 45 minutes or less.</td>\n",
       "      <td>In a b...</td>\n",
       "      <td>Greek</td>\n",
       "    </tr>\n",
       "    <tr>\n",
       "      <th>5902</th>\n",
       "      <td>5902</td>\n",
       "      <td>two 8-ounce containers plain yogurt2 cups all-...</td>\n",
       "      <td>The following recipe produces a coarse-crumbed...</td>\n",
       "      <td>Let th...</td>\n",
       "      <td>Greek</td>\n",
       "    </tr>\n",
       "  </tbody>\n",
       "</table>\n",
       "<p>5903 rows × 5 columns</p>\n",
       "</div>"
      ],
      "text/plain": [
       "      index                                        Ingredients  \\\n",
       "0         0  4 x 300g/10½oz aged sirloin steaks 4 tbsp oliv...   \n",
       "1         1  4 thick salmon steaks2.5cm/1in piece root ging...   \n",
       "2         2  For the beef2 onions, peeled, quartered5cm/2in...   \n",
       "3         3  For the pulled pork5 tbsp soy sauce 4 tbsp chi...   \n",
       "4         4  For the marinade5 spring onions, roughly chopp...   \n",
       "...     ...                                                ...   \n",
       "5898   5898  2 cups balsamic vinegar4 extra large sea scall...   \n",
       "5899   5899  1 3/4 cups all purpose flour1/3 cup powdered s...   \n",
       "5900   5900  a 1-pound firm eggplantolive oil for brushing ...   \n",
       "5901   5901  1 pound ground lamb (not too lean)1/4 cup minc...   \n",
       "5902   5902  two 8-ounce containers plain yogurt2 cups all-...   \n",
       "\n",
       "                                            Explanation  \\\n",
       "0     This steak recipe works as a quick and easy mi...   \n",
       "1                                                  None   \n",
       "2     The point of a stew, it should go without sayi...   \n",
       "3     This recipe is perfect for when you have a gan...   \n",
       "4     Lime, mint and basil bring a refreshing twist ...   \n",
       "...                                                 ...   \n",
       "5898                                               None   \n",
       "5899  This candy-like tart with hints of rose, orang...   \n",
       "5900                                               None   \n",
       "5901             Can be prepared in 45 minutes or less.   \n",
       "5902  The following recipe produces a coarse-crumbed...   \n",
       "\n",
       "                                                 Method Cuisine  \n",
       "0     MethodSeason the steaks with salt and pepper a...   Asian  \n",
       "1     MethodPut the fish steaks in a fairly shallow ...   Asian  \n",
       "2     MethodPreheat the oven to 150C/300F/Gas 2. For...   Asian  \n",
       "3     MethodPreheat the oven to 150C/130C Fan/Gas 2....   Asian  \n",
       "4     MethodIn a large bowl, mix together the spring...   Asian  \n",
       "...                                                 ...     ...  \n",
       "5898                                          In a s...   Greek  \n",
       "5899                                          Blend ...   Greek  \n",
       "5900                                          Prehea...   Greek  \n",
       "5901                                          In a b...   Greek  \n",
       "5902                                          Let th...   Greek  \n",
       "\n",
       "[5903 rows x 5 columns]"
      ]
     },
     "execution_count": 94,
     "metadata": {},
     "output_type": "execute_result"
    }
   ],
   "source": [
    "df1.drop_duplicates(inplace=True)\n",
    "df1.reset_index()"
   ]
  },
  {
   "cell_type": "code",
   "execution_count": 95,
   "metadata": {},
   "outputs": [],
   "source": [
    "df1.drop(0,inplace=True)"
   ]
  },
  {
   "cell_type": "code",
   "execution_count": 96,
   "metadata": {},
   "outputs": [
    {
     "data": {
      "text/html": [
       "<div>\n",
       "<style scoped>\n",
       "    .dataframe tbody tr th:only-of-type {\n",
       "        vertical-align: middle;\n",
       "    }\n",
       "\n",
       "    .dataframe tbody tr th {\n",
       "        vertical-align: top;\n",
       "    }\n",
       "\n",
       "    .dataframe thead th {\n",
       "        text-align: right;\n",
       "    }\n",
       "</style>\n",
       "<table border=\"1\" class=\"dataframe\">\n",
       "  <thead>\n",
       "    <tr style=\"text-align: right;\">\n",
       "      <th></th>\n",
       "      <th>Ingredients</th>\n",
       "      <th>Explanation</th>\n",
       "      <th>Method</th>\n",
       "      <th>Cuisine</th>\n",
       "    </tr>\n",
       "  </thead>\n",
       "  <tbody>\n",
       "    <tr>\n",
       "      <th>1</th>\n",
       "      <td>4 thick salmon steaks2.5cm/1in piece root ging...</td>\n",
       "      <td>None</td>\n",
       "      <td>MethodPut the fish steaks in a fairly shallow ...</td>\n",
       "      <td>Asian</td>\n",
       "    </tr>\n",
       "    <tr>\n",
       "      <th>2</th>\n",
       "      <td>For the beef2 onions, peeled, quartered5cm/2in...</td>\n",
       "      <td>The point of a stew, it should go without sayi...</td>\n",
       "      <td>MethodPreheat the oven to 150C/300F/Gas 2. For...</td>\n",
       "      <td>Asian</td>\n",
       "    </tr>\n",
       "    <tr>\n",
       "      <th>3</th>\n",
       "      <td>For the pulled pork5 tbsp soy sauce 4 tbsp chi...</td>\n",
       "      <td>This recipe is perfect for when you have a gan...</td>\n",
       "      <td>MethodPreheat the oven to 150C/130C Fan/Gas 2....</td>\n",
       "      <td>Asian</td>\n",
       "    </tr>\n",
       "    <tr>\n",
       "      <th>4</th>\n",
       "      <td>For the marinade5 spring onions, roughly chopp...</td>\n",
       "      <td>Lime, mint and basil bring a refreshing twist ...</td>\n",
       "      <td>MethodIn a large bowl, mix together the spring...</td>\n",
       "      <td>Asian</td>\n",
       "    </tr>\n",
       "    <tr>\n",
       "      <th>5</th>\n",
       "      <td>For the green curry paste1 shallot, peeled, fi...</td>\n",
       "      <td>None</td>\n",
       "      <td>MethodFor the green curry paste, place all of ...</td>\n",
       "      <td>Asian</td>\n",
       "    </tr>\n",
       "    <tr>\n",
       "      <th>...</th>\n",
       "      <td>...</td>\n",
       "      <td>...</td>\n",
       "      <td>...</td>\n",
       "      <td>...</td>\n",
       "    </tr>\n",
       "    <tr>\n",
       "      <th>5898</th>\n",
       "      <td>2 cups balsamic vinegar4 extra large sea scall...</td>\n",
       "      <td>None</td>\n",
       "      <td>In a s...</td>\n",
       "      <td>Greek</td>\n",
       "    </tr>\n",
       "    <tr>\n",
       "      <th>5899</th>\n",
       "      <td>1 3/4 cups all purpose flour1/3 cup powdered s...</td>\n",
       "      <td>This candy-like tart with hints of rose, orang...</td>\n",
       "      <td>Blend ...</td>\n",
       "      <td>Greek</td>\n",
       "    </tr>\n",
       "    <tr>\n",
       "      <th>5900</th>\n",
       "      <td>a 1-pound firm eggplantolive oil for brushing ...</td>\n",
       "      <td>None</td>\n",
       "      <td>Prehea...</td>\n",
       "      <td>Greek</td>\n",
       "    </tr>\n",
       "    <tr>\n",
       "      <th>5901</th>\n",
       "      <td>1 pound ground lamb (not too lean)1/4 cup minc...</td>\n",
       "      <td>Can be prepared in 45 minutes or less.</td>\n",
       "      <td>In a b...</td>\n",
       "      <td>Greek</td>\n",
       "    </tr>\n",
       "    <tr>\n",
       "      <th>5902</th>\n",
       "      <td>two 8-ounce containers plain yogurt2 cups all-...</td>\n",
       "      <td>The following recipe produces a coarse-crumbed...</td>\n",
       "      <td>Let th...</td>\n",
       "      <td>Greek</td>\n",
       "    </tr>\n",
       "  </tbody>\n",
       "</table>\n",
       "<p>5902 rows × 4 columns</p>\n",
       "</div>"
      ],
      "text/plain": [
       "                                            Ingredients  \\\n",
       "1     4 thick salmon steaks2.5cm/1in piece root ging...   \n",
       "2     For the beef2 onions, peeled, quartered5cm/2in...   \n",
       "3     For the pulled pork5 tbsp soy sauce 4 tbsp chi...   \n",
       "4     For the marinade5 spring onions, roughly chopp...   \n",
       "5     For the green curry paste1 shallot, peeled, fi...   \n",
       "...                                                 ...   \n",
       "5898  2 cups balsamic vinegar4 extra large sea scall...   \n",
       "5899  1 3/4 cups all purpose flour1/3 cup powdered s...   \n",
       "5900  a 1-pound firm eggplantolive oil for brushing ...   \n",
       "5901  1 pound ground lamb (not too lean)1/4 cup minc...   \n",
       "5902  two 8-ounce containers plain yogurt2 cups all-...   \n",
       "\n",
       "                                            Explanation  \\\n",
       "1                                                  None   \n",
       "2     The point of a stew, it should go without sayi...   \n",
       "3     This recipe is perfect for when you have a gan...   \n",
       "4     Lime, mint and basil bring a refreshing twist ...   \n",
       "5                                                  None   \n",
       "...                                                 ...   \n",
       "5898                                               None   \n",
       "5899  This candy-like tart with hints of rose, orang...   \n",
       "5900                                               None   \n",
       "5901             Can be prepared in 45 minutes or less.   \n",
       "5902  The following recipe produces a coarse-crumbed...   \n",
       "\n",
       "                                                 Method Cuisine  \n",
       "1     MethodPut the fish steaks in a fairly shallow ...   Asian  \n",
       "2     MethodPreheat the oven to 150C/300F/Gas 2. For...   Asian  \n",
       "3     MethodPreheat the oven to 150C/130C Fan/Gas 2....   Asian  \n",
       "4     MethodIn a large bowl, mix together the spring...   Asian  \n",
       "5     MethodFor the green curry paste, place all of ...   Asian  \n",
       "...                                                 ...     ...  \n",
       "5898                                          In a s...   Greek  \n",
       "5899                                          Blend ...   Greek  \n",
       "5900                                          Prehea...   Greek  \n",
       "5901                                          In a b...   Greek  \n",
       "5902                                          Let th...   Greek  \n",
       "\n",
       "[5902 rows x 4 columns]"
      ]
     },
     "execution_count": 96,
     "metadata": {},
     "output_type": "execute_result"
    }
   ],
   "source": [
    "df1"
   ]
  },
  {
   "cell_type": "code",
   "execution_count": 97,
   "metadata": {},
   "outputs": [],
   "source": [
    "df = df1.drop(columns = [\"Explanation\", \"Method\"])"
   ]
  },
  {
   "cell_type": "code",
   "execution_count": 98,
   "metadata": {},
   "outputs": [
    {
     "data": {
      "text/plain": [
       "Italian             1427\n",
       "British/Irish       1160\n",
       "Mexican             1091\n",
       "Asian                532\n",
       "French               520\n",
       "Indian/Pakistani     420\n",
       "Spain/Portuegese     377\n",
       "Greek                375\n",
       "Name: Cuisine, dtype: int64"
      ]
     },
     "execution_count": 98,
     "metadata": {},
     "output_type": "execute_result"
    }
   ],
   "source": [
    "df1.Cuisine.value_counts()"
   ]
  },
  {
   "cell_type": "markdown",
   "metadata": {},
   "source": [
    "# Data Preprocessing"
   ]
  },
  {
   "cell_type": "code",
   "execution_count": 99,
   "metadata": {},
   "outputs": [
    {
     "data": {
      "text/html": [
       "<div>\n",
       "<style scoped>\n",
       "    .dataframe tbody tr th:only-of-type {\n",
       "        vertical-align: middle;\n",
       "    }\n",
       "\n",
       "    .dataframe tbody tr th {\n",
       "        vertical-align: top;\n",
       "    }\n",
       "\n",
       "    .dataframe thead th {\n",
       "        text-align: right;\n",
       "    }\n",
       "</style>\n",
       "<table border=\"1\" class=\"dataframe\">\n",
       "  <thead>\n",
       "    <tr style=\"text-align: right;\">\n",
       "      <th></th>\n",
       "      <th>index</th>\n",
       "      <th>Ingredients</th>\n",
       "      <th>Cuisine</th>\n",
       "    </tr>\n",
       "  </thead>\n",
       "  <tbody>\n",
       "    <tr>\n",
       "      <th>0</th>\n",
       "      <td>1</td>\n",
       "      <td>4 thick salmon steaks2.5cm/1in piece root ging...</td>\n",
       "      <td>Asian</td>\n",
       "    </tr>\n",
       "    <tr>\n",
       "      <th>1</th>\n",
       "      <td>2</td>\n",
       "      <td>For the beef2 onions, peeled, quartered5cm/2in...</td>\n",
       "      <td>Asian</td>\n",
       "    </tr>\n",
       "    <tr>\n",
       "      <th>2</th>\n",
       "      <td>3</td>\n",
       "      <td>For the pulled pork5 tbsp soy sauce 4 tbsp chi...</td>\n",
       "      <td>Asian</td>\n",
       "    </tr>\n",
       "    <tr>\n",
       "      <th>3</th>\n",
       "      <td>4</td>\n",
       "      <td>For the marinade5 spring onions, roughly chopp...</td>\n",
       "      <td>Asian</td>\n",
       "    </tr>\n",
       "    <tr>\n",
       "      <th>4</th>\n",
       "      <td>5</td>\n",
       "      <td>For the green curry paste1 shallot, peeled, fi...</td>\n",
       "      <td>Asian</td>\n",
       "    </tr>\n",
       "    <tr>\n",
       "      <th>...</th>\n",
       "      <td>...</td>\n",
       "      <td>...</td>\n",
       "      <td>...</td>\n",
       "    </tr>\n",
       "    <tr>\n",
       "      <th>5897</th>\n",
       "      <td>5898</td>\n",
       "      <td>2 cups balsamic vinegar4 extra large sea scall...</td>\n",
       "      <td>Greek</td>\n",
       "    </tr>\n",
       "    <tr>\n",
       "      <th>5898</th>\n",
       "      <td>5899</td>\n",
       "      <td>1 3/4 cups all purpose flour1/3 cup powdered s...</td>\n",
       "      <td>Greek</td>\n",
       "    </tr>\n",
       "    <tr>\n",
       "      <th>5899</th>\n",
       "      <td>5900</td>\n",
       "      <td>a 1-pound firm eggplantolive oil for brushing ...</td>\n",
       "      <td>Greek</td>\n",
       "    </tr>\n",
       "    <tr>\n",
       "      <th>5900</th>\n",
       "      <td>5901</td>\n",
       "      <td>1 pound ground lamb (not too lean)1/4 cup minc...</td>\n",
       "      <td>Greek</td>\n",
       "    </tr>\n",
       "    <tr>\n",
       "      <th>5901</th>\n",
       "      <td>5902</td>\n",
       "      <td>two 8-ounce containers plain yogurt2 cups all-...</td>\n",
       "      <td>Greek</td>\n",
       "    </tr>\n",
       "  </tbody>\n",
       "</table>\n",
       "<p>5902 rows × 3 columns</p>\n",
       "</div>"
      ],
      "text/plain": [
       "      index                                        Ingredients Cuisine\n",
       "0         1  4 thick salmon steaks2.5cm/1in piece root ging...   Asian\n",
       "1         2  For the beef2 onions, peeled, quartered5cm/2in...   Asian\n",
       "2         3  For the pulled pork5 tbsp soy sauce 4 tbsp chi...   Asian\n",
       "3         4  For the marinade5 spring onions, roughly chopp...   Asian\n",
       "4         5  For the green curry paste1 shallot, peeled, fi...   Asian\n",
       "...     ...                                                ...     ...\n",
       "5897   5898  2 cups balsamic vinegar4 extra large sea scall...   Greek\n",
       "5898   5899  1 3/4 cups all purpose flour1/3 cup powdered s...   Greek\n",
       "5899   5900  a 1-pound firm eggplantolive oil for brushing ...   Greek\n",
       "5900   5901  1 pound ground lamb (not too lean)1/4 cup minc...   Greek\n",
       "5901   5902  two 8-ounce containers plain yogurt2 cups all-...   Greek\n",
       "\n",
       "[5902 rows x 3 columns]"
      ]
     },
     "execution_count": 99,
     "metadata": {},
     "output_type": "execute_result"
    }
   ],
   "source": [
    "df = df.reset_index()\n",
    "df"
   ]
  },
  {
   "cell_type": "code",
   "execution_count": 100,
   "metadata": {},
   "outputs": [],
   "source": [
    "df.drop(columns=[\"index\"],inplace=True)"
   ]
  },
  {
   "cell_type": "code",
   "execution_count": 101,
   "metadata": {},
   "outputs": [
    {
     "data": {
      "text/plain": [
       "Ingredients    0\n",
       "Cuisine        0\n",
       "dtype: int64"
      ]
     },
     "execution_count": 101,
     "metadata": {},
     "output_type": "execute_result"
    }
   ],
   "source": [
    "df.isnull().sum()"
   ]
  },
  {
   "cell_type": "code",
   "execution_count": 102,
   "metadata": {},
   "outputs": [
    {
     "data": {
      "text/plain": [
       "'200g/7oz beef fillet, sliced thinlysal and freshly ground black pepperolive oil75ml/3fl oz coconut milk2.5cm/1in piece fresh ginger110ml/4fl oz rice wine vinegar110g/4oz caster sugar50ml/2fl oz Thai fish sauce (nam pla)2 tsp dried chilli flakes50g/2oz cashew nuts, finely chopped1 small bunch fresh coriander, roughly choppedvegetable oil for deep frying40g/1½oz ready-made rice noodles2 Little Gem lettuces'"
      ]
     },
     "execution_count": 102,
     "metadata": {},
     "output_type": "execute_result"
    }
   ],
   "source": [
    "df.Ingredients.iloc[8]"
   ]
  },
  {
   "cell_type": "markdown",
   "metadata": {},
   "source": [
    "# Data Cleaning"
   ]
  },
  {
   "cell_type": "code",
   "execution_count": 103,
   "metadata": {},
   "outputs": [],
   "source": [
    "#Noktalama işaretlerini temizleyelim\n",
    "\n",
    "import string\n",
    "\n",
    "noktalama_isaretleri = string.punctuation\n",
    "def noktalama_temizleme(metin):\n",
    "    return metin.translate(str.maketrans('', '', noktalama_isaretleri))\n",
    "\n",
    "df[\"Ingredients\"] = df[\"Ingredients\"].apply(noktalama_temizleme)"
   ]
  },
  {
   "cell_type": "code",
   "execution_count": 104,
   "metadata": {},
   "outputs": [],
   "source": [
    "#tüm karakterleri küçük harf yaptık\n",
    "df[\"Ingredients\"] = df[\"Ingredients\"].str.lower()\n",
    "df[\"Ingredients\"] = df[\"Ingredients\"].str.split()"
   ]
  },
  {
   "cell_type": "code",
   "execution_count": 105,
   "metadata": {},
   "outputs": [],
   "source": [
    "def strip_element(my_list):\n",
    "    return [x.strip() for x in my_list]\n",
    "\n",
    "df['Ingredients']=df['Ingredients'].apply(strip_element)"
   ]
  },
  {
   "cell_type": "code",
   "execution_count": 106,
   "metadata": {},
   "outputs": [
    {
     "data": {
      "text/html": [
       "<div>\n",
       "<style scoped>\n",
       "    .dataframe tbody tr th:only-of-type {\n",
       "        vertical-align: middle;\n",
       "    }\n",
       "\n",
       "    .dataframe tbody tr th {\n",
       "        vertical-align: top;\n",
       "    }\n",
       "\n",
       "    .dataframe thead th {\n",
       "        text-align: right;\n",
       "    }\n",
       "</style>\n",
       "<table border=\"1\" class=\"dataframe\">\n",
       "  <thead>\n",
       "    <tr style=\"text-align: right;\">\n",
       "      <th></th>\n",
       "      <th>Ingredients</th>\n",
       "      <th>Cuisine</th>\n",
       "    </tr>\n",
       "  </thead>\n",
       "  <tbody>\n",
       "    <tr>\n",
       "      <th>0</th>\n",
       "      <td>[4, thick, salmon, steaks25cm1in, piece, root,...</td>\n",
       "      <td>Asian</td>\n",
       "    </tr>\n",
       "    <tr>\n",
       "      <th>1</th>\n",
       "      <td>[for, the, beef2, onions, peeled, quartered5cm...</td>\n",
       "      <td>Asian</td>\n",
       "    </tr>\n",
       "    <tr>\n",
       "      <th>2</th>\n",
       "      <td>[for, the, pulled, pork5, tbsp, soy, sauce, 4,...</td>\n",
       "      <td>Asian</td>\n",
       "    </tr>\n",
       "    <tr>\n",
       "      <th>3</th>\n",
       "      <td>[for, the, marinade5, spring, onions, roughly,...</td>\n",
       "      <td>Asian</td>\n",
       "    </tr>\n",
       "    <tr>\n",
       "      <th>4</th>\n",
       "      <td>[for, the, green, curry, paste1, shallot, peel...</td>\n",
       "      <td>Asian</td>\n",
       "    </tr>\n",
       "    <tr>\n",
       "      <th>...</th>\n",
       "      <td>...</td>\n",
       "      <td>...</td>\n",
       "    </tr>\n",
       "    <tr>\n",
       "      <th>5897</th>\n",
       "      <td>[2, cups, balsamic, vinegar4, extra, large, se...</td>\n",
       "      <td>Greek</td>\n",
       "    </tr>\n",
       "    <tr>\n",
       "      <th>5898</th>\n",
       "      <td>[1, 34, cups, all, purpose, flour13, cup, powd...</td>\n",
       "      <td>Greek</td>\n",
       "    </tr>\n",
       "    <tr>\n",
       "      <th>5899</th>\n",
       "      <td>[a, 1pound, firm, eggplantolive, oil, for, bru...</td>\n",
       "      <td>Greek</td>\n",
       "    </tr>\n",
       "    <tr>\n",
       "      <th>5900</th>\n",
       "      <td>[1, pound, ground, lamb, not, too, lean14, cup...</td>\n",
       "      <td>Greek</td>\n",
       "    </tr>\n",
       "    <tr>\n",
       "      <th>5901</th>\n",
       "      <td>[two, 8ounce, containers, plain, yogurt2, cups...</td>\n",
       "      <td>Greek</td>\n",
       "    </tr>\n",
       "  </tbody>\n",
       "</table>\n",
       "<p>5902 rows × 2 columns</p>\n",
       "</div>"
      ],
      "text/plain": [
       "                                            Ingredients Cuisine\n",
       "0     [4, thick, salmon, steaks25cm1in, piece, root,...   Asian\n",
       "1     [for, the, beef2, onions, peeled, quartered5cm...   Asian\n",
       "2     [for, the, pulled, pork5, tbsp, soy, sauce, 4,...   Asian\n",
       "3     [for, the, marinade5, spring, onions, roughly,...   Asian\n",
       "4     [for, the, green, curry, paste1, shallot, peel...   Asian\n",
       "...                                                 ...     ...\n",
       "5897  [2, cups, balsamic, vinegar4, extra, large, se...   Greek\n",
       "5898  [1, 34, cups, all, purpose, flour13, cup, powd...   Greek\n",
       "5899  [a, 1pound, firm, eggplantolive, oil, for, bru...   Greek\n",
       "5900  [1, pound, ground, lamb, not, too, lean14, cup...   Greek\n",
       "5901  [two, 8ounce, containers, plain, yogurt2, cups...   Greek\n",
       "\n",
       "[5902 rows x 2 columns]"
      ]
     },
     "execution_count": 106,
     "metadata": {},
     "output_type": "execute_result"
    }
   ],
   "source": [
    "df"
   ]
  },
  {
   "cell_type": "code",
   "execution_count": 107,
   "metadata": {},
   "outputs": [],
   "source": [
    "df['Ingredients'] = [' '.join(map(str, l)) for l in df['Ingredients']]"
   ]
  },
  {
   "cell_type": "code",
   "execution_count": 108,
   "metadata": {},
   "outputs": [
    {
     "data": {
      "image/png": "[encoded data removed]",
      "text/plain": [
       "<Figure size 720x432 with 1 Axes>"
      ]
     },
     "metadata": {
      "needs_background": "light"
     },
     "output_type": "display_data"
    }
   ],
   "source": [
    "plt.figure(figsize=[10,6])\n",
    "sns.countplot(data=df, y = \"Cuisine\", order = df.Cuisine.value_counts().index, palette=\"Set3\")\n",
    "plt.ylabel(\"Cuisine\");\n",
    "plt.xlabel(\"Counts\");\n",
    "\n",
    "plt.savefig(\"cuisine.jpeg\", bbox_inches=\"tight\", dpi =600)"
   ]
  },
  {
   "cell_type": "code",
   "execution_count": 109,
   "metadata": {},
   "outputs": [],
   "source": [
    "#herhangi bir ölçü miktar bildiren sayıları gosterimleri cıkardık\n",
    "import re \n",
    "  \n",
    "def remove(list): \n",
    "    pattern = '[^a-z]'\n",
    "    list = [re.sub(pattern, ' ', i) for i in list] \n",
    "    return list\n",
    "  \n",
    "df[\"Ingredients\"] = remove(df.Ingredients)"
   ]
  },
  {
   "cell_type": "code",
   "execution_count": 110,
   "metadata": {},
   "outputs": [],
   "source": [
    "# Stopwordleri atalım\n",
    "\n",
    "#nltk.download('stopwords')\n",
    "\n",
    "STOPWORDS = set(stopwords.words('english'))\n",
    "def remove_stopwords(text):\n",
    "    return \" \".join([word for word in str(text).split() if word not in STOPWORDS])\n",
    "\n",
    "df[\"Ingredients\"] = df[\"Ingredients\"].apply(remove_stopwords)"
   ]
  },
  {
   "cell_type": "code",
   "execution_count": 111,
   "metadata": {},
   "outputs": [
    {
     "data": {
      "text/plain": [
       "'\\nfrom nltk.stem.snowball import SnowballStemmer\\n\\nstemmer = SnowballStemmer(\"english\", ignore_stopwords=True)\\ndef stem_words(text):\\n    return \" \".join([stemmer.stem(word) for word in text.split()])\\ndf[\"Ingredients\"] = df[\"Ingredients\"].apply(stem_words)'"
      ]
     },
     "execution_count": 111,
     "metadata": {},
     "output_type": "execute_result"
    }
   ],
   "source": [
    "# Kelime köklerini alalım\n",
    "\"\"\"\n",
    "from nltk.stem.snowball import SnowballStemmer\n",
    "\n",
    "stemmer = SnowballStemmer(\"english\", ignore_stopwords=True)\n",
    "def stem_words(text):\n",
    "    return \" \".join([stemmer.stem(word) for word in text.split()])\n",
    "df[\"Ingredients\"] = df[\"Ingredients\"].apply(stem_words)\"\"\""
   ]
  },
  {
   "cell_type": "code",
   "execution_count": 112,
   "metadata": {},
   "outputs": [],
   "source": [
    "#miktar ve yontem bildiren gosterimleri cıkardık\n",
    "kelimeler = [\"kilo\",\"kg\",\"ml\",\"cm\",\"lb\",\"g\",\"oz\",\"fl\",\"teaspoons\",\n",
    "              \"teaspoon\",\"tablespoon\",\"tablespoons\",\"ounces\",\n",
    "            \"ounce\",\"pound\",\"pounds\",\"tbs\",\"tbsp\",\"tsp\",\"fresh\",\n",
    "              \"chopped\",\"chops\",\"trimmed\",\"large\",\"all-purpose\",\n",
    "            \"cups\",\"plus\",\"extra\",\"grated\",\"freshly\",\"crushed\",\n",
    "              \"minced\",\"skinless\",\"low\",\"diced\",\"sliced\",\n",
    "            \"thinly\",\"unsalted\",\"coarse\",\"medium\",\"powdered\",\n",
    "              \"finely\",\"fine\",\"pitted\",\"plain\",\"chop\",\"low-fat\",\n",
    "              \"full-fat\",\"nonfat\",\"fat-free\",\"roughly\",\"cup\"]\n",
    "\n",
    "def words(text):\n",
    "    return \" \".join([word for word in str(text).split() if word not in kelimeler])\n",
    "df[\"Ingredients\"] = df[\"Ingredients\"].apply(words)"
   ]
  },
  {
   "cell_type": "code",
   "execution_count": 113,
   "metadata": {},
   "outputs": [],
   "source": [
    "w_tokenizer = nltk.tokenize.WhitespaceTokenizer()\n",
    "lemmatizer = nltk.stem.WordNetLemmatizer()\n",
    "\n",
    "def lemmatize_text(text):\n",
    "    return [lemmatizer.lemmatize(w) for w in w_tokenizer.tokenize(text)]\n",
    "df['Ingredients'] = df.Ingredients.apply(lemmatize_text)"
   ]
  },
  {
   "cell_type": "code",
   "execution_count": 114,
   "metadata": {},
   "outputs": [],
   "source": [
    "df['Ingredients'] = [' '.join(map(str, l)) for l in df['Ingredients']]"
   ]
  },
  {
   "cell_type": "code",
   "execution_count": 115,
   "metadata": {},
   "outputs": [
    {
     "data": {
      "text/plain": [
       "Italian             1427\n",
       "British/Irish       1160\n",
       "Mexican             1091\n",
       "Asian                532\n",
       "French               520\n",
       "Indian/Pakistani     420\n",
       "Spain/Portuegese     377\n",
       "Greek                375\n",
       "Name: Cuisine, dtype: int64"
      ]
     },
     "execution_count": 115,
     "metadata": {},
     "output_type": "execute_result"
    }
   ],
   "source": [
    "df.Cuisine.value_counts()"
   ]
  },
  {
   "cell_type": "code",
   "execution_count": 116,
   "metadata": {},
   "outputs": [
    {
     "data": {
      "text/plain": [
       "'beef fillet thinlysal ground black pepperolive oil coconut milk piece ginger rice wine vinegar caster sugar thai fish sauce nam pla dried chilli flake cashew nut small bunch coriander choppedvegetable oil deep frying readymade rice noodle little gem lettuce'"
      ]
     },
     "execution_count": 116,
     "metadata": {},
     "output_type": "execute_result"
    }
   ],
   "source": [
    "df.Ingredients.iloc[8]"
   ]
  },
  {
   "cell_type": "code",
   "execution_count": 117,
   "metadata": {},
   "outputs": [
    {
     "data": {
      "text/html": [
       "<div>\n",
       "<style scoped>\n",
       "    .dataframe tbody tr th:only-of-type {\n",
       "        vertical-align: middle;\n",
       "    }\n",
       "\n",
       "    .dataframe tbody tr th {\n",
       "        vertical-align: top;\n",
       "    }\n",
       "\n",
       "    .dataframe thead th {\n",
       "        text-align: right;\n",
       "    }\n",
       "</style>\n",
       "<table border=\"1\" class=\"dataframe\">\n",
       "  <thead>\n",
       "    <tr style=\"text-align: right;\">\n",
       "      <th></th>\n",
       "      <th>Ingredients</th>\n",
       "      <th>Cuisine</th>\n",
       "    </tr>\n",
       "  </thead>\n",
       "  <tbody>\n",
       "    <tr>\n",
       "      <th>0</th>\n",
       "      <td>thick salmon steak piece root ginger peeled cu...</td>\n",
       "      <td>Asian</td>\n",
       "    </tr>\n",
       "    <tr>\n",
       "      <th>1</th>\n",
       "      <td>beef onion peeled quartered piece root ginger ...</td>\n",
       "      <td>Asian</td>\n",
       "    </tr>\n",
       "    <tr>\n",
       "      <th>2</th>\n",
       "      <td>pulled pork soy sauce chilli powder chinese fi...</td>\n",
       "      <td>Asian</td>\n",
       "    </tr>\n",
       "    <tr>\n",
       "      <th>3</th>\n",
       "      <td>marinade spring onion garlic clove thai shallo...</td>\n",
       "      <td>Asian</td>\n",
       "    </tr>\n",
       "    <tr>\n",
       "      <th>4</th>\n",
       "      <td>green curry paste shallot peeled lemongrass st...</td>\n",
       "      <td>Asian</td>\n",
       "    </tr>\n",
       "    <tr>\n",
       "      <th>...</th>\n",
       "      <td>...</td>\n",
       "      <td>...</td>\n",
       "    </tr>\n",
       "    <tr>\n",
       "      <th>5897</th>\n",
       "      <td>balsamic vinegar sea scallopssalt pepper taste...</td>\n",
       "      <td>Greek</td>\n",
       "    </tr>\n",
       "    <tr>\n",
       "      <th>5898</th>\n",
       "      <td>purpose flour sugar scant salt ground clove st...</td>\n",
       "      <td>Greek</td>\n",
       "    </tr>\n",
       "    <tr>\n",
       "      <th>5899</th>\n",
       "      <td>firm eggplantolive oil brushing eggplant feta ...</td>\n",
       "      <td>Greek</td>\n",
       "    </tr>\n",
       "    <tr>\n",
       "      <th>5900</th>\n",
       "      <td>ground lamb lean parsley leaf coriander mint l...</td>\n",
       "      <td>Greek</td>\n",
       "    </tr>\n",
       "    <tr>\n",
       "      <th>5901</th>\n",
       "      <td>two container yogurt allpurpose flour doubleac...</td>\n",
       "      <td>Greek</td>\n",
       "    </tr>\n",
       "  </tbody>\n",
       "</table>\n",
       "<p>5866 rows × 2 columns</p>\n",
       "</div>"
      ],
      "text/plain": [
       "                                            Ingredients Cuisine\n",
       "0     thick salmon steak piece root ginger peeled cu...   Asian\n",
       "1     beef onion peeled quartered piece root ginger ...   Asian\n",
       "2     pulled pork soy sauce chilli powder chinese fi...   Asian\n",
       "3     marinade spring onion garlic clove thai shallo...   Asian\n",
       "4     green curry paste shallot peeled lemongrass st...   Asian\n",
       "...                                                 ...     ...\n",
       "5897  balsamic vinegar sea scallopssalt pepper taste...   Greek\n",
       "5898  purpose flour sugar scant salt ground clove st...   Greek\n",
       "5899  firm eggplantolive oil brushing eggplant feta ...   Greek\n",
       "5900  ground lamb lean parsley leaf coriander mint l...   Greek\n",
       "5901  two container yogurt allpurpose flour doubleac...   Greek\n",
       "\n",
       "[5866 rows x 2 columns]"
      ]
     },
     "execution_count": 117,
     "metadata": {},
     "output_type": "execute_result"
    }
   ],
   "source": [
    "df.drop_duplicates(inplace=True)\n",
    "df"
   ]
  },
  {
   "cell_type": "code",
   "execution_count": 118,
   "metadata": {},
   "outputs": [],
   "source": [
    "all_ = [x for y in df.Ingredients for x in y.split(' ') ]\n",
    "a,b = np.unique(all_, return_counts = True)\n",
    "to_remove = a[b<8]\n",
    "df[\"Ingredients\"] = [' '.join(np.array(y.split(' '))[~np.isin(y.split(' '), to_remove)]) for y in df.Ingredients]"
   ]
  },
  {
   "cell_type": "markdown",
   "metadata": {},
   "source": [
    "# EDA"
   ]
  },
  {
   "cell_type": "code",
   "execution_count": 119,
   "metadata": {},
   "outputs": [],
   "source": [
    "greek = df.loc[df[\"Cuisine\"] == \"Greek\"]\n",
    "british = df.loc[df[\"Cuisine\"] == \"British/Irish\"]\n",
    "asian = df.loc[df[\"Cuisine\"] == \"Asian\"]\n",
    "indian = df.loc[df[\"Cuisine\"] == \"Indian/Pakistani\"]"
   ]
  },
  {
   "cell_type": "code",
   "execution_count": 120,
   "metadata": {},
   "outputs": [],
   "source": [
    "for_wordcloud = tfidf_vectorizer.get_feature_names()\n",
    "\n",
    "def word_cloud(content, title):\n",
    "    wc = WordCloud(background_color='white', max_words=600, colormap=\"Dark2\",\n",
    "                   max_font_size=50)\n",
    "    wc.generate(\" \".join(content))\n",
    "    plt.figure(figsize=(16, 13))\n",
    "    plt.title(title, fontsize=20)\n",
    "    plt.imshow(wc.recolor(colormap='Pastel2',  random_state=42), alpha=0.98)\n",
    "    plt.axis('off')"
   ]
  },
  {
   "cell_type": "code",
   "execution_count": 121,
   "metadata": {},
   "outputs": [
    {
     "data": {
      "image/png": "[encoded data removed]",
      "text/plain": [
       "<Figure size 1152x936 with 1 Axes>"
      ]
     },
     "metadata": {
      "needs_background": "light"
     },
     "output_type": "display_data"
    }
   ],
   "source": [
    "word_cloud(british.Ingredients,\"British\")"
   ]
  },
  {
   "cell_type": "code",
   "execution_count": 122,
   "metadata": {},
   "outputs": [
    {
     "name": "stdout",
     "output_type": "stream",
     "text": [
      "Counter({'oil': 4195, 'ground': 3736, 'onion': 2826, 'garlic': 2818, 'clove': 2671, 'black': 2617, 'salt': 2568, 'cut': 2558, 'pepper': 2546, 'olive': 2539, 'sugar': 2229, 'leaf': 2203, 'peeled': 2130, 'red': 2108, 'butter': 2068, 'egg': 1820, 'white': 1755, 'chilli': 1675, 'juice': 1673, 'flour': 1663, 'tomato': 1633, 'seed': 1581, 'dried': 1544, 'chicken': 1386, 'sauce': 1359, 'small': 1337, 'lemon': 1307, 'vegetable': 1253, 'coriander': 1247, 'piece': 1222, 'freerange': 1202, 'water': 1101, 'wine': 1070, 'green': 1058, 'removed': 1049, 'powder': 1006, 'ginger': 968, 'lime': 938, 'caster': 938, 'cream': 919, 'milk': 892, 'stock': 886, 'rice': 885, 'vinegar': 767, 'whole': 758, 'cumin': 745, 'parsley': 740, 'potato': 715, 'cheese': 704, 'serve': 688, 'sprig': 651, 'drained': 639, 'stick': 606, 'dry': 603, 'inch': 603, 'halved': 602, 'beef': 590, 'x': 589, 'slice': 586, 'taste': 573, 'root': 570, 'sea': 569, 'thyme': 566, 'zest': 564, 'bean': 558, 'shallot': 545, 'paste': 535, 'double': 528, 'cube': 526, 'carrot': 515, 'bay': 513, 'pint': 506, 'bunch': 492, 'optional': 491, 'cinnamon': 482, 'spring': 461, 'soy': 460, 'orange': 455, 'mushroom': 448, 'cooked': 438, 'chile': 437, 'fillet': 432, 'brown': 427, 'mustard': 423, 'beaten': 418, 'bread': 415, 'yolk': 400, 'pepperfor': 392, 'basil': 391, 'pork': 389, 'light': 384, 'extravirgin': 379, 'hot': 378, 'turmeric': 377, 'handful': 371, 'fish': 364, 'vanilla': 364, 'pinch': 364, 'coarsely': 357, 'curry': 354, 'coconut': 353, 'sesame': 352, 'rinsed': 352, 'half': 349, 'dark': 348, 'oregano': 345, 'garnish': 342, 'preferably': 341, 'tin': 341, 'almond': 339, 'toasted': 336, 'frozen': 336, 'stalk': 334, 'lamb': 333, 'mint': 332, 'dusting': 329, 'seeded': 327, 'flatleaf': 322, 'chunk': 318, 'strip': 318, 'sunflower': 318, 'pod': 314, 'skin': 312, 'pur': 308, 'smoked': 308, 'e': 307, 'chocolate': 304, 'corn': 297, 'celery': 296, 'baking': 295, 'crumbled': 292, 'breast': 290, 'parmesan': 290, 'cilantro': 290, 'broth': 289, 'virgin': 288, 'pastry': 284, 'flake': 283, 'mixed': 280, 'thin': 278, 'shredded': 276, 'lightly': 274, 'thick': 272, 'baby': 266, 'plum': 262, 'peppercorn': 261, 'yoghurt': 261, 'cold': 260, 'boneless': 259, 'fennel': 259, 'soft': 258, 'canned': 258, 'sweet': 251, 'cardamom': 246, 'quartered': 246, 'filling': 246, 'bacon': 243, 'wedge': 242, 'masala': 242, 'head': 239, 'apple': 238, 'rosemary': 238, 'pea': 236, 'icing': 235, 'italian': 232, 'available': 231, 'greasing': 227, 'ripe': 223, 'garam': 222, 'softened': 218, 'tortilla': 218, 'salad': 216, 'frying': 214, 'cucumber': 213, 'honey': 213, 'packed': 213, 'spinach': 211, 'sherry': 209, 'litre': 205, 'paprika': 204, 'steak': 201, 'prawn': 200, 'stem': 199, 'yellow': 198, 'roasted': 198, 'cherry': 197, 'deseeded': 192, 'bell': 191, 'bone': 190, 'divided': 189, 'thai': 186, 'fat': 185, 'kosher': 184, 'fullfat': 183, 'cored': 179, 'melted': 178, 'extract': 177, 'lengthways': 176, 'pasta': 176, 'noodle': 175, 'jalape': 175, 'cornflour': 174, 'avocado': 173, 'yeast': 173, 'nutmeg': 171, 'thigh': 169, 'cr': 169, 'groundnut': 168, 'heaped': 168, 'allpurpose': 167, 'washed': 164, 'cheddar': 163, 'soaked': 162, 'left': 161, 'cleaned': 159, 'sausage': 157, 'lengthwise': 156, 'breadcrumb': 155, 'shell': 153, 'basmati': 153, 'chinese': 152, 'nut': 152, 'strong': 150, 'raw': 149, 'room': 149, 'banana': 148, 'see': 147, 'golden': 147, 'selfraising': 147, 'long': 146, 'flaked': 146, 'temperature': 145, 'cider': 143, 'readymade': 142, 'leek': 142, 'peanut': 141, 'syrup': 141, 'broken': 140, 'dijon': 140, 'separated': 139, 'chive': 139, 'rapeseed': 138, 'cabbage': 137, 'cocoa': 137, 'duck': 137, 'inchthick': 137, 'balsamic': 136, 'mince': 134, 'oilfor': 133, 'cayenne': 133, 'warm': 132, 'chilled': 131, 'split': 130, 'torn': 128, 'spice': 128, 'topping': 128, 'caper': 128, 'anise': 127, 'lettuce': 127, 'peel': 127, 'cubed': 127, 'little': 125, 'salsa': 125, 'leg': 124, 'puff': 124, 'chipotle': 124, 'skinned': 123, 'sage': 121, 'saffron': 120, 'anchovy': 120, 'picked': 119, 'meat': 119, 'serrano': 119, 'asian': 118, 'blanched': 118, 'mild': 118, 'tarragon': 118, 'feta': 117, 'use': 116, 'star': 115, 'chickpea': 115, 'mexican': 115, 'reserved': 114, 'fra': 114, 'lemongrass': 113, 'good': 113, 'can': 113, 'bulb': 113, 'stemmed': 113, 'aubergine': 111, 'deveined': 111, 'chestnut': 111, 'chili': 111, 'package': 111, 'rib': 110, 'whipping': 110, 'raspberry': 110, 'broccoli': 109, 'english': 109, 'thawed': 109, 'ham': 109, 'sifted': 108, 'jar': 107, 'apricot': 107, 'brandy': 107, 'well': 106, 'button': 106, 'oilsalt': 106, 'salmon': 105, 'packet': 105, 'jam': 105, 'shelled': 105, 'mozzarella': 105, 'lowsalt': 104, 'walnut': 103, 'shrimp': 102, 'strawberry': 102, 'raisin': 102, 'shoulder': 101, 'boiling': 101, 'crosswise': 101, 'dressing': 100, 'unpeeled': 100, 'goodquality': 100, 'dill': 99, 'scrubbed': 99, 'mayonnaise': 98, 'courgette': 97, 'shaoxing': 97, 'tamarind': 96, 'fruit': 96, 'purpose': 96, 'pickled': 95, 'salted': 94, 'cod': 94, 'floret': 94, 'cauliflower': 94, 'choppedsalt': 94, 'thickly': 93, 'che': 93, 'round': 92, 'supermarket': 91, 'made': 91, 'serving': 91, 'streaky': 91, 'total': 90, 'marinade': 89, 'mango': 89, 'king': 89, 'granulated': 89, 'tomatillo': 89, 'firm': 88, 'palm': 88, 'discarded': 88, 'dice': 88, 'saltfor': 88, 'pancetta': 88, 'cooking': 87, 'worcestershire': 87, 'spanish': 86, 'pepperto': 85, 'lard': 85, 'ancho': 85, 'french': 84, 'unsweetened': 83, 'floury': 83, 'choppedfor': 82, 'sugarfor': 82, 'mussel': 82, 'sour': 82, 'veal': 81, 'mm': 81, 'new': 81, 'lentil': 81, 'de': 81, 'oyster': 80, 'chorizo': 80, 'ghee': 79, 'bitesized': 79, 'pine': 79, 'wild': 79, 'deep': 78, 'herb': 78, 'clam': 78, 'tip': 78, 'natural': 78, 'parmigianoreggiano': 78, 'turkey': 77, 'flat': 77, 'greekstyle': 77, 'hazelnut': 77, 'pistachio': 77, 'soda': 77, 'heavy': 76, 'asparagus': 75, 'lean': 75, 'ricotta': 75, 'according': 74, 'one': 74, 'dough': 74, 'liqueur': 74, 'goat': 74, 'unwaxed': 73, 'chilies': 73, 'scallop': 72, 'ice': 72, 'gruy': 72, 'demerara': 71, 'roast': 71, 'fenugreek': 71, 'bottle': 71, 'squid': 70, 'chip': 70, 'scallion': 70, 'greek': 70, 'pear': 70, 'onlyfor': 69, 'deepfrying': 68, 'mix': 68, 'allspice': 68, 'tinned': 67, 'pineapple': 67, 'drop': 67, 'clear': 67, 'minute': 67, 'waterfor': 67, 'squeezed': 66, 'sheet': 66, 'part': 66, 'sultana': 66, 'muscovado': 65, 'hard': 65, 'food': 65, 'vegetarian': 65, 'additional': 65, 'stone': 64, 'kale': 64, 'pumpkin': 64, 'berry': 64, 'radish': 63, 'squash': 63, 'poblano': 63, 'zucchini': 63, 'shiitake': 62, 'cake': 62, 'lardons': 62, 'artichoke': 62, 'coffee': 62, 'prosciutto': 62, 'husked': 62, 'bass': 61, 'mirin': 60, 'kidney': 60, 'wholemeal': 60, 'belly': 59, 'mashed': 59, 'leftover': 59, 'choi': 59, 'japanese': 59, 'using': 59, 'tail': 59, 'including': 59, 'instant': 59, 'julienned': 58, 'haddock': 58, 'crab': 58, 'loaf': 58, 'mari': 58, 'sprinkling': 58, 'onlysalt': 57, 'fried': 57, 'quarter': 57, 'chutney': 57, 'matchstick': 56, 'grocer': 56, 'boned': 56, 'flesh': 56, 'cranberry': 56, 'scraped': 56, 'fivespice': 55, 'gem': 55, 'cooled': 55, 'servefor': 55, 'custard': 55, 'weight': 55, 'single': 55, 'pecorino': 55, 'rum': 55, 'bottled': 54, 'knob': 54, 'mature': 54, 'solid': 54, 'piper': 54, 'core': 53, 'gram': 53, 'butternut': 52, 'miso': 52, 'rasher': 52, 'liver': 52, 'crumb': 52, 'crust': 52, 'jack': 52, 'f': 52, 'instruction': 51, 'runny': 51, 'cashew': 51, 'kaffir': 51, 'around': 51, 'creamsalt': 51, 'adobo': 51, 'eggplant': 51, 'roll': 50, 'boiled': 50, 'wholegrain': 50, 'quality': 50, 'spaghetti': 50, 'guajillo': 50, 'baguette': 49, 'mascarpone': 49, 'porcini': 49, 'outer': 48, 'edward': 48, 'monterey': 48, 'casing': 48, 'unbleached': 48, 'tough': 47, 'top': 47, 'loin': 47, 'arborio': 47, 'spray': 47, 'cracked': 47, 'cornmeal': 47, 'rind': 46, 'tastefor': 46, 'butterfor': 46, 'drizzling': 46, 'needed': 46, 'mixture': 46, 'sundried': 46, 'currant': 46, 'california': 46, 'short': 45, 'decorate': 45, 'desiccated': 45, 'tiger': 45, 'strand': 45, 'watercress': 45, 'also': 45, 'ketchup': 45, 'end': 45, 'organic': 44, 'level': 44, 'tuna': 44, 'fryingfor': 44, 'bicarbonate': 44, 'yogurt': 44, 'pomegranate': 44, 'gravy': 44, 'beer': 44, 'oat': 44, 'creamfor': 44, 'tofu': 43, 'lowsodium': 43, 'ring': 43, 'cress': 43, 'seasoned': 43, 'brushing': 43, 'sweetcorn': 42, 'square': 42, 'bird': 42, 'diagonal': 42, 'approximately': 42, 'kashmiri': 42, 'glaze': 42, 'beatenfor': 42, 'beansprouts': 41, 'panko': 41, 'flower': 41, 'kernel': 41, 'prepared': 41, 'overnight': 41, 'seasoning': 41, 'semolina': 41, 'madeira': 41, 'grape': 41, 'mackerel': 41, 'kalamata': 41, 'suet': 41, 'leavesfor': 40, 'lobster': 40, 'homemade': 40, 'smashed': 40, 'flourpinch': 40, 'ear': 40, 'warmed': 40, 'soured': 40, 'biscuit': 39, 'length': 39, 'two': 39, 'stocksalt': 39, 'dal': 39, 'masa': 39, 'spicy': 38, 'choppedpinch': 38, 'saltfreshly': 38, 'longgrain': 38, 'shank': 38, 'pudding': 38, 'thread': 38, 'hulled': 38, 'optionalfor': 38, 'lowfat': 38, 'similar': 38, 'prune': 38, 'loosely': 38, 'redwine': 38, 'butcher': 37, 'galangal': 37, 'nam': 37, 'uncooked': 37, 'called': 37, 'romano': 37, 'sichuan': 37, 'caramel': 37, 'sourdough': 37, 'chard': 37, 'rolled': 37, 'active': 37, 'husk': 37, 'arugula': 37, 'powderpinch': 36, 'braising': 36, 'steamed': 36, 'garnishfor': 36, 'gratedsalt': 36, 'alternatively': 36, 'grain': 36, 'desired': 36, 'knife': 36, 'pan': 36, 'bag': 36, 'sachet': 36, 'sharp': 36, 'whipped': 36, 'parsnip': 36, 'bittersweet': 36, 'leavessalt': 35, 'online': 35, 'rolling': 35, 'tender': 35, 'soup': 35, 'beetroot': 35, 'clarified': 35, 'pak': 34, 'blended': 34, 'liquid': 34, 'ask': 34, 'julienne': 34, 'per': 34, 'slightly': 34, 'chervil': 34, 'batter': 34, 'purple': 34, 'neck': 34, 'marjoram': 34, 'date': 34, 'mash': 34, 'queso': 34, 'juicefor': 33, 'sugarpinch': 33, 'dipping': 33, 'hour': 33, 'heart': 33, 'mace': 33, 'intact': 33, 'rump': 33, 'crisp': 33, 'dumpling': 33, 'specialist': 33, 'tabasco': 33, 'penne': 33, 'confit': 33, 'bramley': 33, 'slivered': 33, 'note': 33, 'purchased': 33, 'mediumsized': 32, 'sake': 32, 'defrosted': 32, 'sprout': 32, 'ball': 32, 'wheat': 32, 'debearded': 32, 'malt': 32, 'peach': 32, 'piment': 32, 'wiped': 32, 'buttersalt': 32, 'swiss': 32, 'shortcrust': 32, 'venison': 32, 'blend': 32, 'epazote': 32, 'slicedfor': 31, 'romaine': 31, 'eating': 31, 'essence': 31, 'turnip': 31, 'buttermilk': 31, 'curd': 31, 'waxy': 31, 'monkfish': 31, 'ed': 31, 'cured': 31, 'naan': 31, 'sole': 31, 'snipped': 31, 'russet': 31, 'bouquet': 31, 'blackberry': 31, 'fig': 31, 'cannellini': 31, 'horseradish': 31, 'quart': 31, 'canola': 31, 'pla': 30, 'wing': 30, 'glass': 30, 'splash': 30, 'size': 30, 'granule': 30, 'alternative': 30, 'rocket': 30, 'p': 30, 'fastaction': 30, 'pearl': 30, 'meringue': 30, 'jelly': 30, 'four': 30, 'polenta': 30, 'inchwide': 30, 'pressed': 29, 'milkfor': 29, 'seedless': 29, 'powderfor': 29, 'stoned': 29, 'n': 29, 'saltpinch': 29, 'lukewarm': 29, 'spear': 29, 'stew': 29, 'passata': 29, 'espresso': 29, 'port': 29, 'asafoetida': 29, 'chapati': 29, 'tequila': 29, 'semisweet': 29, 'seye': 28, 'gelatine': 28, 'fry': 28, 'cook': 28, 'dash': 28, 'table': 28, 'minimum': 28, 'sponge': 28, 'candied': 28, 'truffle': 28, 'pulp': 27, 'mangetout': 27, 'bonein': 27, 'reduced': 27, 'pestle': 27, 'make': 27, 'finger': 27, 'drumstick': 27, 'regular': 27, 'punnet': 27, 'savoy': 27, 'base': 27, 'pink': 27, 'linguine': 27, 'parsleysalt': 27, 'brioche': 27, 'celeriac': 27, 'parsleyfor': 27, 'portobello': 27, 'together': 27, 'vinegarsalt': 27, 'clean': 27, 'countrystyle': 27, 'container': 27, 'open': 26, 'diagonally': 26, 'sirloin': 26, 'hoisin': 26, 'bruised': 26, 'peeler': 26, 'curly': 26, 'baton': 26, 'depending': 26, 'young': 26, 'korean': 26, 'ideally': 26, 'patted': 26, 'processor': 26, 'garni': 26, 'condensed': 26, 'fatfree': 26, 'hardboiled': 26, 'raita': 26, 'wholemilk': 26, 'jasmine': 25, 'chuck': 25, 'reducedfat': 25, 'jointed': 25, 'tied': 25, 'optionalsalt': 25, 'ciabatta': 25, 'spiced': 25, 'gherkin': 25, 'distilled': 25, 'finish': 25, 'broad': 25, 'vermouth': 25, 'pecan': 25, 'rhubarb': 25, 'assorted': 25, 'cutlet': 25, 'marsala': 25, 'turkish': 25, 'ale': 25, 'shoot': 24, 'greasingfor': 24, 'substitute': 24, 'stockfor': 24, 'gutted': 24, 'choppedhandful': 24, 'kitchen': 24, 'eggsfor': 24, 'chou': 24, 'crusty': 24, 'pack': 24, 'back': 24, 'rindless': 24, 'equal': 24, 'oilpinch': 24, 'recipe': 24, 'glac': 24, 'spun': 24, 'paneer': 24, 'flatleafed': 24, 'pizza': 24, 'brinecured': 24, 'fresco': 24, 'block': 23, 'sticky': 23, 'birdseye': 23, 'wrapper': 23, 'mortar': 23, 'vinegarfor': 23, 'juicesalt': 23, 'ribbon': 23, 'wholewheat': 23, 'madras': 23, 'slicedsalt': 23, 'o': 23, 'blade': 23, 'weighing': 23, 'like': 23, 'floz': 23, 'juniper': 23, 'pasilla': 23, 'puree': 23, 'jumbo': 23, 'pure': 23, 'gold': 23, 'manchego': 23, 'taco': 23, 'pinto': 23, 'fettuccine': 23, 'wear': 23, 'rubber': 23, 'possible': 22, 'indian': 22, 'without': 22, 'rough': 22, 'crabmeat': 22, 'onlyto': 22, 'swede': 22, 'halibut': 22, 'unsmoked': 22, 'generous': 22, 'aged': 22, 'pesto': 22, 'store': 22, 'allbutter': 22, 'pie': 22, 'mincemeat': 22, 'ajwain': 22, 'butterflied': 22, 'mutton': 22, 'nonstick': 22, 'superfine': 22, 'gelatin': 22, 'oilpacked': 22, 'granny': 21, 'smith': 21, 'crispy': 21, 'marinated': 21, 'iceberg': 21, 'blue': 21, 'approx': 21, 'glutenfree': 21, 'glazing': 21, 'vegan': 21, 'sugarsalt': 21, 'shallow': 21, 'choppedsmall': 21, 'andor': 21, 'baked': 21, 'reducedsodium': 21, 'sushi': 21, 'maple': 21, 'juiced': 21, 'sweetened': 21, 'cox': 21, 'necessary': 21, 'blueberry': 21, 'harina': 21, 'cotija': 21, 'shin': 20, 'papaya': 20, 'layer': 20, 'smooth': 20, 'cockle': 20, 'discard': 20, 'sometimes': 20, 'bok': 20, 'pin': 20, 'sparkling': 20, 'tenderloin': 20, 'sprouting': 20, 'pancake': 20, 'tastesalt': 20, 'bitesize': 20, 'verde': 20, 'shaving': 20, 'risotto': 20, 'readyrolled': 20, 'box': 20, 'floursalt': 20, 'rabbit': 20, 'pilau': 20, 'season': 20, 'nigella': 20, 'vineripened': 20, 'cap': 20, 'skirt': 20, 'habanero': 20, 'porridge': 20, 'glove': 20, 'mexico': 20, 'finequality': 20, 'wide': 19, 'pickle': 19, 'vermicelli': 19, 'saucesalt': 19, 'hake': 19, 'excess': 19, 'seaweed': 19, 'snapper': 19, 'micro': 19, 'scored': 19, 'langoustine': 19, 'edible': 19, 'pale': 19, 'gratedfor': 19, 'quail': 19, 'mediumgrain': 19, 'remove': 19, 'sugarto': 19, 'tissi': 19, 'redcurrant': 19, 'crustless': 19, 'frond': 19, 'slit': 19, 'chaat': 19, 'tikka': 19, 'rbol': 19, 'cornstarch': 19, 'inchlong': 19, 'firmripe': 19, 'angle': 18, 'deepfried': 18, 'unavailable': 18, 'snap': 18, 'servesalt': 18, 'seedsfor': 18, 'cheek': 18, 'horizontally': 18, 'live': 18, 'leaving': 18, 'piecessalt': 18, 'espelette': 18, 'stale': 18, 'joint': 18, 'cro': 18, 'marzipan': 18, 'pheasant': 18, 'orzo': 18, 'urid': 18, 'treacle': 18, 'crema': 18, 'butt': 18, 'sandwich': 18, 'scant': 18, 'unflavored': 18, 'hominy': 18, 'cubesfor': 17, 'le': 17, 'bun': 17, 'least': 17, 'thumbsized': 17, 'bamboo': 17, 'daikon': 17, 'pollock': 17, 'bowl': 17, 'flatbread': 17, 'passion': 17, 'pounded': 17, 'servehandful': 17, 'fermented': 17, 'paper': 17, 'best': 17, 'need': 17, 'iced': 17, 'brine': 17, 'marmalade': 17, 'coating': 17, 'grapefruit': 17, 'whisky': 17, 'cent': 17, 'filo': 17, 'string': 17, 'diameter': 17, 'flouring': 17, 'chanterelle': 17, 'gorgonzola': 17, 'added': 17, 'reserving': 17, 'tandoori': 17, 'brussels': 17, 'fusilli': 17, 'percent': 17, 'garnishsalt': 16, 'onlypinch': 16, 'scaled': 16, 'saucepinch': 16, 'tastefreshly': 16, 'choppedlarge': 16, 'tamari': 16, 'dissolved': 16, 'choppedto': 16, 'known': 16, 'mini': 16, 'braised': 16, 'rubbed': 16, 'cavolo': 16, 'nero': 16, 'pepperpinch': 16, 'bream': 16, 'amaretto': 16, 'di': 16, 'aniseed': 16, 'wash': 16, 'cointreau': 16, 'te': 16, 'rounded': 16, 'pt': 16, 'dripping': 16, 'filleted': 16, 'shop': 16, 'margarine': 16, 'shortgrain': 16, 'stout': 16, 'refried': 16, 'yukon': 16, 'oilkosher': 16, 'envelope': 16, 'salata': 16, 'variety': 15, 'enough': 15, 'bashed': 15, 'watermelon': 15, 'tenderstem': 15, 'pinboned': 15, 'squeeze': 15, 'royal': 15, 'cassia': 15, 'parma': 15, 'side': 15, 'dessert': 15, 'calvados': 15, 'flourfor': 15, 'rack': 15, 'puy': 15, 'shucked': 15, 'sliver': 15, 'crumble': 15, 'tartare': 15, 'jus': 15, 'pig': 15, 'colouring': 15, 'gammon': 15, 'spread': 15, 'piquillo': 15, 'combination': 15, 'tea': 15, 'irish': 15, 'guacamole': 15, 'readytoeat': 15, 'inchdiameter': 15, 'piloncillo': 15, 'leavessmall': 14, 'five': 14, 'sriracha': 14, 'saltto': 14, 'waterto': 14, 'cover': 14, 'inner': 14, 'form': 14, 'peppercornsfor': 14, 'eye': 14, 'creamed': 14, 'skinon': 14, 'sinew': 14, 'stir': 14, 'tasteto': 14, 'slicedhandful': 14, 'wrap': 14, 'segmented': 14, 'oilto': 14, 'still': 14, 'wasabi': 14, 'dustingfor': 14, 'globe': 14, 'meltedfor': 14, 'kirsch': 14, 'keep': 14, 'grilled': 14, 'tart': 14, 'dust': 14, 'inthick': 14, 'fishmonger': 14, 'icecold': 14, 'poached': 14, 'poppy': 14, 'thoroughly': 14, 'boston': 14, 'oila': 14, 'fontina': 14, 'plump': 13, 'middle': 13, 'creampinch': 13, 'stewing': 13, 'tentacle': 13, 'used': 13, 'vinaigrette': 13, 'saucefor': 13, 'gochujang': 13, 'larger': 13, 'optionalfreshly': 13, 'shiso': 13, 'grill': 13, 'triangle': 13, 'bark': 13, 'dustingpinch': 13, 'shopbought': 13, 'pot': 13, 'preserved': 13, 'work': 13, 'market': 13, 'eg': 13, 'chesalt': 13, 'milled': 13, 'specialty': 13, 'game': 13, 'haricot': 13, 'pastryplain': 13, 'mustardsalt': 13, 'pepperfresh': 13, 'country': 13, 'fruity': 13, 'fondant': 13, 'melon': 13, 'stilton': 13, 'barley': 13, 'crimini': 13, 'choice': 13, 'get': 13, 'molasses': 13, 'across': 13, 'sicilian': 13, 'italianstyle': 13, 'confectioner': 13, 'link': 13, 'skewer': 12, 'crunchy': 12, 'quantity': 12, 'juicepinch': 12, 'edge': 12, 'glutinous': 12, 'milkpinch': 12, 'summer': 12, 'three': 12, 'deepfryingfor': 12, 'attached': 12, 'may': 12, 'tagliatelle': 12, 'required': 12, 'servebasmati': 12, 'heated': 12, 'watersalt': 12, 'rock': 12, 'servesteamed': 12, 'carcass': 12, 'peppersalt': 12, 'disc': 12, 'l': 12, 'stuffing': 12, 'kneading': 12, 'reserve': 12, 'samphire': 12, 'gill': 12, 'membrane': 12, 'podded': 12, 'biscotti': 12, 'tub': 12, 'mousse': 12, 'buttercream': 12, 'b': 12, 'charlotte': 12, 'kept': 12, 'creamto': 12, 'delicatessen': 12, 'buttered': 12, 'assemble': 12, 'tepid': 12, 'cornichons': 12, 'semiskimmed': 12, 'undyed': 12, 'dustingsalt': 12, 'gooseberry': 12, 'cool': 12, 'beet': 12, 'methi': 12, 'blossom': 12, 'strained': 12, 'jaggery': 12, 'radicchio': 12, 'shortening': 12, 'hock': 12, 'amaretti': 12, 'navel': 12, 'mediumsize': 12, 'matchsticksize': 12, 'great': 12, 'northern': 12, 'jicama': 12, 'pita': 12, 'removedfor': 11, 'stripsfor': 11, 'leaveshandful': 11, 'poussin': 11, 'slicedsmall': 11, 'normal': 11, 'marrow': 11, 'meatball': 11, 'shaved': 11, 'portion': 11, 'fully': 11, 'oilfreshly': 11, 'topped': 11, 'thickcut': 11, 'optionalhandful': 11, 'crushedpinch': 11, 'lb': 11, 'brand': 11, 'starch': 11, 'goose': 11, 'nori': 11, 'bouillon': 11, 'storebought': 11, 'winter': 11, 'vodka': 11, 'clementine': 11, 'free': 11, 'cognac': 11, 'seedspinch': 11, 'beard': 11, 'seedssalt': 11, 'vine': 11, 'grand': 11, 'marnier': 11, 'eight': 11, 'vin': 11, 'creamsea': 11, 'pickling': 11, 'dayold': 11, 'stewed': 11, 'ton': 11, 'full': 11, 'guinea': 11, 'rosewater': 11, 'piecesfor': 11, 'quinoa': 11, 'quince': 11, 'beatensalt': 11, 'corianderpinch': 11, 'clotted': 11, 'paella': 11, 'sardine': 11, 'kimchi': 11, 'bonito': 11, 'drizzle': 11, 'lasagne': 11, 'center': 11, 'canela': 11, 'escarole': 11, 'brewed': 11, 'farfalle': 11, 'pepitas': 11, 'slicedto': 10, 'another': 10, 'honeyfor': 10, 'corianderfor': 10, 'scooped': 10, 'heat': 10, 'evaporated': 10, 'dish': 10, 'coriandersalt': 10, 'onlysmall': 10, 'milksalt': 10, 'leavessea': 10, 'tapped': 10, 'jersey': 10, 'peppersmall': 10, 'rest': 10, 'garnishto': 10, 'pepperhandful': 10, 'wonton': 10, 'garnishhandful': 10, 'plaice': 10, 'soya': 10, 'turbot': 10, 'caramelised': 10, 'amount': 10, 'dredging': 10, 'armagnac': 10, 'eggfor': 10, 'burgundy': 10, 'gratedsmall': 10, 'pared': 10, 'mullet': 10, 'oli': 10, 'extractfor': 10, 'corned': 10, 'emmental': 10, 'chantilly': 10, 'ib': 10, 'washfor': 10, 'scottish': 10, 'choppedfreshly': 10, 'cassis': 10, 'flattened': 10, 'fowl': 10, 'lincolnshire': 10, 'sprinkle': 10, 'relish': 10, 'saut': 10, 'chunky': 10, 'bitter': 10, 'yoghurtfor': 10, 'chana': 10, 'coin': 10, 'roasting': 10, 'tomatoessalt': 10, 'carom': 10, 'halloumi': 10, 'dulce': 10, 'dashi': 10, 'enchilada': 10, 'cob': 10, 'sheep': 10, 'endive': 10, 'elderflower': 10, 'firmly': 10, 'fava': 10, 'rom': 10, 'juicekosher': 10, 'garbanzo': 10, 'hothouse': 10, 'provolone': 10, 'rotini': 10, 'tubular': 10, 'rabe': 10, 'accompaniment': 10, 'achiote': 10, 'prefer': 9, 'wooden': 9, 'pepperolive': 9, 'brill': 9, 'herby': 9, 'holy': 9, 'cornflourfor': 9, 'simple': 9, 'mediumhot': 9, 'oilhandful': 9, 'tailed': 9, 'braeburn': 9, 'hispi': 9, 'old': 9, 'spelt': 9, 'smaller': 9, 'slicedpinch': 9, 'choppeda': 9, 'leavespinch': 9, 'tartar': 9, 'sugara': 9, 'dessertspoon': 9, 'mung': 9, 'deepfryingsalt': 9, 'burger': 9, 'tiny': 9, 'quick': 9, 'flank': 9, 'scotch': 9, 'serveboiled': 9, 'vinegarpinch': 9, 'deboned': 9, 'choppedsea': 9, 'cracker': 9, 'fast': 9, 'action': 9, 'high': 9, 'time': 9, 'add': 9, 'edamame': 9, 'trimming': 9, 'flakesfreshly': 9, 'segment': 9, 'beatenpinch': 9, 'buffalo': 9, 'first': 9, 'tube': 9, 'buckwheat': 9, 'nutmegsalt': 9, 'chipping': 9, 'thymefor': 9, 'removedsalt': 9, 'pe': 9, 'whisked': 9, 'flageolet': 9, 'blanc': 9, 'couscous': 9, 'hollandaise': 9, 'cocktail': 9, 'leavesto': 9, 'rich': 9, 'la': 9, 'champagne': 9, 'dandelion': 9, 'sieved': 9, 'oxtail': 9, 'big': 9, 'calf': 9, 'aloo': 9, 'gingergarlic': 9, 'oven': 9, 'yoghurtsalt': 9, 'third': 9, 'sushigrade': 9, 'octopus': 9, 'yuzu': 9, 'belgian': 9, 'basket': 9, 'unrefined': 9, 'gnocchi': 9, 'heirloom': 9, 'ha': 9, 'halfandhalf': 9, 'pimientostuffed': 9, 'littleneck': 9, 'refrigerated': 9, 'riceshaped': 9, 'morita': 9, 'blanco': 9, 'onlyhandful': 8, 'pulled': 8, 'manis': 8, 'digestive': 8, 'ordinary': 8, 'pith': 8, 'fragrant': 8, 'buy': 8, 'enoki': 8, 'pastefor': 8, 'eggssalt': 8, 'lotus': 8, 'preferred': 8, 'praline': 8, 'c': 8, 'farmed': 8, 'claw': 8, 'halfsalt': 8, 'refreshed': 8, 'couple': 8, 'making': 8, 'clovesfor': 8, 'bit': 8, 'close': 8, 'leafy': 8, 'concentrate': 8, 'sauceto': 8, 'sieve': 8, 'cane': 8, 'arrowroot': 8, 'garnishfreshly': 8, 'sum': 8, 'servefreshly': 8, 'flakesfor': 8, 'rub': 8, 'winesalt': 8, 'dressed': 8, 'measuring': 8, 'gochugaru': 8, 'dover': 8, 'gratedfreshly': 8, 'salami': 8, 'turn': 8, 'scoop': 8, 'almondsfor': 8, 'spoon': 8, 'breadcrumbssalt': 8, 'inwide': 8, 'pepperfreshly': 8, 'flounder': 8, 'wilted': 8, 'peeledsalt': 8, 'ganache': 8, 'crouton': 8, 'chateaubriand': 8, 'giblet': 8, 'find': 8, 'coulis': 8, 'ruby': 8, 'peak': 8, 'bar': 8, 'range': 8, 'inside': 8, 'redcurrants': 8, 'blackcurrants': 8, 'yolkfor': 8, 'en': 8, 'decoration': 8, 'desir': 8, 'rye': 8, 'shortbread': 8, 'blood': 8, 'ni': 8, 'trout': 8, 'rustic': 8, 'stuffed': 8, 'co': 8, 'thickness': 8, 'masalasalt': 8, 'stirred': 8, 'masalafor': 8, 'servegreen': 8, 'yeastpinch': 8, 'powdersalt': 8, 'amaranth': 8, 'fryingsalt': 8, 'whiskey': 8, 'calasparra': 8, 'teriyaki': 8, 'mushy': 8, 'mole': 8, 'cordial': 8, 'toffee': 8, 'macaroni': 8, 'ravioli': 8, 'gemelli': 8, 'hungarian': 8, 'bowtie': 8, 'centercut': 8, 'mill': 8, 'imported': 8, 'boilinghot': 8, 'tuscan': 8, 'orecchiette': 8, 'anaheim': 8})\n"
     ]
    },
    {
     "data": {
      "text/html": [
       "<div>\n",
       "<style scoped>\n",
       "    .dataframe tbody tr th:only-of-type {\n",
       "        vertical-align: middle;\n",
       "    }\n",
       "\n",
       "    .dataframe tbody tr th {\n",
       "        vertical-align: top;\n",
       "    }\n",
       "\n",
       "    .dataframe thead th {\n",
       "        text-align: right;\n",
       "    }\n",
       "</style>\n",
       "<table border=\"1\" class=\"dataframe\">\n",
       "  <thead>\n",
       "    <tr style=\"text-align: right;\">\n",
       "      <th></th>\n",
       "    </tr>\n",
       "  </thead>\n",
       "  <tbody>\n",
       "  </tbody>\n",
       "</table>\n",
       "</div>"
      ],
      "text/plain": [
       "Empty DataFrame\n",
       "Columns: []\n",
       "Index: []"
      ]
     },
     "execution_count": 122,
     "metadata": {},
     "output_type": "execute_result"
    }
   ],
   "source": [
    "from collections import Counter\n",
    "results = Counter()\n",
    "df['Ingredients'].str.lower().str.split().apply(results.update)\n",
    "pd.DataFrame(print(results))"
   ]
  },
  {
   "cell_type": "markdown",
   "metadata": {},
   "source": [
    "# MODEL"
   ]
  },
  {
   "cell_type": "code",
   "execution_count": 123,
   "metadata": {},
   "outputs": [],
   "source": [
    "X = df.Ingredients\n",
    "y = df.Cuisine"
   ]
  },
  {
   "cell_type": "code",
   "execution_count": 124,
   "metadata": {},
   "outputs": [],
   "source": [
    "# Count vec uygulanarak modellere bakılması\n",
    "\n",
    "def count_vec_models(X,y):\n",
    "    X_train, X_test, y_train, y_test = train_test_split(X, y, test_size=0.2, stratify = y, random_state = 43)\n",
    "    \n",
    "    CV = CountVectorizer()\n",
    "    \n",
    "    X_train_CV = CV.fit_transform(X_train)\n",
    "    X_test_CV = CV.transform(X_test)\n",
    "    \n",
    "    #Logistic Reg\n",
    "    lr = LogisticRegression()\n",
    "    \n",
    "    lr.fit(X_train_CV, y_train)\n",
    "    y_pred_logcv = lr.predict(X_test_CV)\n",
    "    \n",
    "    scorelog = np.mean(y_pred_logcv == y_test)\n",
    "    \n",
    "    #Multinomial NB\n",
    "    naive_multi = MultinomialNB(fit_prior=False)\n",
    "\n",
    "    naive_multi.fit(X_train_CV, y_train)\n",
    "    y_pred_multi_cv = naive_multi.predict(X_test_CV)\n",
    "    \n",
    "    scoremulti = np.mean(y_pred_multi_cv == y_test)\n",
    "    \n",
    "    #Bernouill NB\n",
    "    naive_berno = BernoulliNB()\n",
    "    \n",
    "    naive_berno.fit(X_train_CV, y_train)\n",
    "    y_pred_berno_cv = naive_berno.predict(X_test_CV)\n",
    "    \n",
    "    scoreberno = np.mean(y_pred_berno_cv == y_test)\n",
    "    \n",
    "    #Support Vector Mach.\n",
    "    \n",
    "    svm = SGDClassifier(loss='hinge', penalty='l2', alpha=1e-3, random_state=43)\n",
    "    \n",
    "    svm.fit(X_train_CV, y_train)\n",
    "    y_pred_svm = svm.predict(X_test_CV)\n",
    "    \n",
    "    scoresvm = np.mean(y_pred_svm == y_test)\n",
    "    \n",
    "    #Random Forest\n",
    "    \n",
    "    rf = RandomForestClassifier()\n",
    "    \n",
    "    rf.fit(X_train_CV, y_train)\n",
    "    y_pred_rf = rf.predict(X_test_CV)\n",
    "    \n",
    "    scorerf = np.mean(y_pred_rf == y_test)\n",
    "    \n",
    "    liste = {\"Model\": [\"Logistic Regresyon\", \"Multinomial NB\",\"Bernouilli NB\",\"SVM\",\"Random Forest\"],\n",
    "            \"Train Accuracy\": [lr.score(X_train_CV, y_train), naive_multi.score(X_train_CV, y_train), naive_berno.score(X_train_CV, y_train),\n",
    "                              svm.score(X_train_CV, y_train),rf.score(X_train_CV, y_train)],\n",
    "            \"Test Accuracy\":[lr.score(X_test_CV, y_test), naive_multi.score(X_test_CV, y_test), naive_berno.score(X_test_CV, y_test),\n",
    "                              svm.score(X_test_CV, y_test),rf.score(X_test_CV, y_test)] }\n",
    "    return pd.DataFrame(liste)"
   ]
  },
  {
   "cell_type": "code",
   "execution_count": 125,
   "metadata": {},
   "outputs": [],
   "source": [
    "# Count vec ngram uygulanarak modellere bakılması\n",
    "\n",
    "\n",
    "def count_vec_ngram(X,y):\n",
    "    X_train, X_test, y_train, y_test = train_test_split(X, y, test_size=0.2, stratify = y, random_state = 43)\n",
    "    \n",
    "    CV = CountVectorizer(ngram_range=(1,2), binary=True)\n",
    "    \n",
    "    X_train_CV = CV.fit_transform(X_train)\n",
    "    X_test_CV = CV.transform(X_test)\n",
    "    \n",
    "    #Logistic Reg\n",
    "    lr = LogisticRegression()\n",
    "    \n",
    "    lr.fit(X_train_CV, y_train)\n",
    "    y_pred_logcv = lr.predict(X_test_CV)\n",
    "    \n",
    "    scorelog = np.mean(y_pred_logcv == y_test)\n",
    "    \n",
    "    #Multinomial NB\n",
    "    naive_multi = MultinomialNB(fit_prior=False)\n",
    "\n",
    "    naive_multi.fit(X_train_CV, y_train)\n",
    "    y_pred_multi_cv = naive_multi.predict(X_test_CV)\n",
    "    \n",
    "    scoremulti = np.mean(y_pred_multi_cv == y_test)\n",
    "    \n",
    "    #Bernouill NB\n",
    "    naive_berno = BernoulliNB()\n",
    "    \n",
    "    naive_berno.fit(X_train_CV, y_train)\n",
    "    y_pred_berno_cv = naive_berno.predict(X_test_CV)\n",
    "\n",
    "    scoreberno = np.mean(y_pred_berno_cv == y_test)\n",
    "    \n",
    "    #Support Vector Mach.\n",
    "    \n",
    "    svm = SGDClassifier(loss='hinge', penalty='l2', alpha=1e-3, random_state=43)\n",
    "    \n",
    "    svm.fit(X_train_CV, y_train)\n",
    "    y_pred_svm = svm.predict(X_test_CV)\n",
    "    \n",
    "    scoresvm = np.mean(y_pred_svm == y_test)\n",
    "    \n",
    "    #Random Forest\n",
    "    \n",
    "    rf = RandomForestClassifier()\n",
    "    \n",
    "    rf.fit(X_train_CV, y_train)\n",
    "    y_pred_rf = rf.predict(X_test_CV)\n",
    "    \n",
    "    scorerf = np.mean(y_pred_rf == y_test)\n",
    "    \n",
    "    liste = {\"Model\": [\"Logistic Regresyon\", \"Multinomial NB\",\"Bernouilli NB\",\"SVM\",\"Random Forest\"],\n",
    "            \"Train Accuracy\": [lr.score(X_train_CV, y_train), naive_multi.score(X_train_CV, y_train), naive_berno.score(X_train_CV, y_train),\n",
    "                              svm.score(X_train_CV, y_train),rf.score(X_train_CV, y_train)],\n",
    "            \"Test Accuracy\":[lr.score(X_test_CV, y_test), naive_multi.score(X_test_CV, y_test), naive_berno.score(X_test_CV, y_test),\n",
    "                              svm.score(X_test_CV, y_test),rf.score(X_test_CV, y_test)] }\n",
    "    return pd.DataFrame(liste)\n",
    "\n"
   ]
  },
  {
   "cell_type": "code",
   "execution_count": 126,
   "metadata": {},
   "outputs": [],
   "source": [
    "# TF IDF uygulanarak modellere bakılması\n",
    "\n",
    "def tfidf_vec(X,y):\n",
    "    \n",
    "    X_train, X_test, y_train, y_test = train_test_split(X, y, test_size=0.2, stratify = y, random_state = 43)\n",
    "    \n",
    "    tfidf = TfidfVectorizer()\n",
    "    \n",
    "    X_train_tfidf = tfidf.fit_transform(X_train)\n",
    "    X_test_tfidf = tfidf.transform(X_test)\n",
    "    \n",
    "    #Logistic Reg\n",
    "    lr = LogisticRegression()\n",
    "    \n",
    "    lr.fit(X_train_tfidf, y_train)\n",
    "    y_pred_logcv = lr.predict(X_test_tfidf)\n",
    "    \n",
    "    scorelog = np.mean(y_pred_logcv == y_test)\n",
    "    \n",
    "    #Multinomial NB\n",
    "    naive_multi = MultinomialNB(fit_prior=False)\n",
    "\n",
    "    naive_multi.fit(X_train_tfidf, y_train)\n",
    "    y_pred_multi_cv = naive_multi.predict(X_test_tfidf)\n",
    "    \n",
    "    scoremulti = np.mean(y_pred_multi_cv == y_test)\n",
    "    \n",
    "    #Bernouill NB\n",
    "    naive_berno = BernoulliNB()\n",
    "    \n",
    "    naive_berno.fit(X_train_tfidf, y_train)\n",
    "    y_pred_berno_cv = naive_berno.predict(X_test_tfidf)\n",
    "    \n",
    "    scoreberno = np.mean(y_pred_berno_cv == y_test)\n",
    "    \n",
    "    #Support Vector Mach.\n",
    "    \n",
    "    svm = SGDClassifier(loss='hinge', penalty='l2', alpha=1e-3, random_state=43)\n",
    "    \n",
    "    svm.fit(X_train_tfidf, y_train)\n",
    "    y_pred_svm = svm.predict(X_test_tfidf)\n",
    "    \n",
    "    scoresvm = np.mean(y_pred_svm == y_test)\n",
    "    \n",
    "    #Random Forest\n",
    "    \n",
    "    rf = RandomForestClassifier()\n",
    "    \n",
    "    rf.fit(X_train_tfidf, y_train)\n",
    "    y_pred_rf = rf.predict(X_test_tfidf)\n",
    "    \n",
    "    scorerf = np.mean(y_pred_rf == y_test)\n",
    "    \n",
    "    liste = {\"Model\": [\"Logistic Regresyon\", \"Multinomial NB\",\"Bernouilli NB\",\"SVM\",\"Random Forest\"],\n",
    "            \"Train Accuracy\": [lr.score(X_train_tfidf, y_train), naive_multi.score(X_train_tfidf, y_train), naive_berno.score(X_train_tfidf, y_train),\n",
    "                              svm.score(X_train_tfidf, y_train),rf.score(X_train_tfidf, y_train)],\n",
    "            \"Test Accuracy\":[lr.score(X_test_tfidf, y_test), naive_multi.score(X_test_tfidf, y_test), naive_berno.score(X_test_tfidf, y_test),\n",
    "                              svm.score(X_test_tfidf, y_test),rf.score(X_test_tfidf, y_test)] }\n",
    "    return pd.DataFrame(liste)\n"
   ]
  },
  {
   "cell_type": "code",
   "execution_count": 127,
   "metadata": {},
   "outputs": [],
   "source": [
    "# TF IDF ngram uygulanarak modellere bakılması\n",
    "\n",
    "def tfidf_vec_ngram(X,y):\n",
    "    \n",
    "    X_train, X_test, y_train, y_test = train_test_split(X, y, test_size=0.2, stratify = y, random_state = 43)\n",
    "    \n",
    "    tfidf = TfidfVectorizer(ngram_range=(1,2), binary=True)\n",
    "    \n",
    "    X_train_tfidf = tfidf.fit_transform(X_train)\n",
    "    X_test_tfidf = tfidf.transform(X_test)\n",
    "    \n",
    "    #Logistic Reg\n",
    "    lr = LogisticRegression()\n",
    "    \n",
    "    lr.fit(X_train_tfidf, y_train)\n",
    "    y_pred_logcv = lr.predict(X_test_tfidf)\n",
    "    \n",
    "    scorelog = np.mean(y_pred_logcv == y_test)\n",
    "    \n",
    "    #Multinomial NB\n",
    "    naive_multi = MultinomialNB(fit_prior=False)\n",
    "\n",
    "    naive_multi.fit(X_train_tfidf, y_train)\n",
    "    y_pred_multi_cv = naive_multi.predict(X_test_tfidf)\n",
    "    \n",
    "    scoremulti = np.mean(y_pred_multi_cv == y_test)\n",
    "    \n",
    "    #Bernouill NB\n",
    "    naive_berno = BernoulliNB()\n",
    "    \n",
    "    naive_berno.fit(X_train_tfidf, y_train)\n",
    "    y_pred_berno_cv = naive_berno.predict(X_test_tfidf)\n",
    "    \n",
    "    scoreberno = np.mean(y_pred_berno_cv == y_test)\n",
    "    \n",
    "    #Support Vector Mach.\n",
    "    \n",
    "    svm = SGDClassifier(loss='hinge', penalty='l2', alpha=1e-3, random_state=43)\n",
    "    \n",
    "    svm.fit(X_train_tfidf, y_train)\n",
    "    y_pred_svm = svm.predict(X_test_tfidf)\n",
    "    \n",
    "    scoresvm = np.mean(y_pred_svm == y_test)\n",
    "    \n",
    "    #Random Forest\n",
    "    \n",
    "    rf = RandomForestClassifier()\n",
    "    \n",
    "    rf.fit(X_train_tfidf, y_train)\n",
    "    y_pred_rf = rf.predict(X_test_tfidf)\n",
    "    \n",
    "    scorerf = np.mean(y_pred_rf == y_test)\n",
    "    \n",
    "    liste = {\"Model\": [\"Logistic Regresyon\", \"Multinomial NB\",\"Bernouilli NB\",\"SVM\",\"Random Forest\"],\n",
    "            \"Train Accuracy\": [lr.score(X_train_tfidf, y_train), naive_multi.score(X_train_tfidf, y_train), naive_berno.score(X_train_tfidf, y_train),\n",
    "                              svm.score(X_train_tfidf, y_train),rf.score(X_train_tfidf, y_train)],\n",
    "            \"Test Accuracy\":[lr.score(X_test_tfidf, y_test), naive_multi.score(X_test_tfidf, y_test), naive_berno.score(X_test_tfidf, y_test),\n",
    "                              svm.score(X_test_tfidf, y_test),rf.score(X_test_tfidf, y_test)] }\n",
    "    return pd.DataFrame(liste)\n",
    "    "
   ]
  },
  {
   "cell_type": "code",
   "execution_count": 128,
   "metadata": {},
   "outputs": [],
   "source": [
    "def conf_matrix(model,X_train, X_test, y_train, y_test, title):\n",
    "    \n",
    "    mod = model\n",
    "    \n",
    "    mod.fit(X_train, y_train)\n",
    "    y_pred = mod.predict(X_test)\n",
    "    \n",
    "    plt.figure(figsize=[12,5])\n",
    "    sns.heatmap(confusion_matrix(y_test, y_pred), annot = True, annot_kws = {'fontsize' : 14},\n",
    "                fmt =\"d\",cmap=\"Blues\").invert_yaxis()\n",
    "    plt.title(title)\n"
   ]
  },
  {
   "cell_type": "code",
   "execution_count": 129,
   "metadata": {},
   "outputs": [
    {
     "data": {
      "text/html": [
       "<div>\n",
       "<style scoped>\n",
       "    .dataframe tbody tr th:only-of-type {\n",
       "        vertical-align: middle;\n",
       "    }\n",
       "\n",
       "    .dataframe tbody tr th {\n",
       "        vertical-align: top;\n",
       "    }\n",
       "\n",
       "    .dataframe thead th {\n",
       "        text-align: right;\n",
       "    }\n",
       "</style>\n",
       "<table border=\"1\" class=\"dataframe\">\n",
       "  <thead>\n",
       "    <tr style=\"text-align: right;\">\n",
       "      <th></th>\n",
       "      <th>Model</th>\n",
       "      <th>Train Accuracy</th>\n",
       "      <th>Test Accuracy</th>\n",
       "    </tr>\n",
       "  </thead>\n",
       "  <tbody>\n",
       "    <tr>\n",
       "      <th>0</th>\n",
       "      <td>Logistic Regresyon</td>\n",
       "      <td>0.912404</td>\n",
       "      <td>0.671210</td>\n",
       "    </tr>\n",
       "    <tr>\n",
       "      <th>1</th>\n",
       "      <td>Multinomial NB</td>\n",
       "      <td>0.778772</td>\n",
       "      <td>0.712095</td>\n",
       "    </tr>\n",
       "    <tr>\n",
       "      <th>2</th>\n",
       "      <td>Bernouilli NB</td>\n",
       "      <td>0.759378</td>\n",
       "      <td>0.718058</td>\n",
       "    </tr>\n",
       "    <tr>\n",
       "      <th>3</th>\n",
       "      <td>SVM</td>\n",
       "      <td>0.880435</td>\n",
       "      <td>0.702726</td>\n",
       "    </tr>\n",
       "    <tr>\n",
       "      <th>4</th>\n",
       "      <td>Random Forest</td>\n",
       "      <td>0.944373</td>\n",
       "      <td>0.676320</td>\n",
       "    </tr>\n",
       "  </tbody>\n",
       "</table>\n",
       "</div>"
      ],
      "text/plain": [
       "                Model  Train Accuracy  Test Accuracy\n",
       "0  Logistic Regresyon        0.912404       0.671210\n",
       "1      Multinomial NB        0.778772       0.712095\n",
       "2       Bernouilli NB        0.759378       0.718058\n",
       "3                 SVM        0.880435       0.702726\n",
       "4       Random Forest        0.944373       0.676320"
      ]
     },
     "execution_count": 129,
     "metadata": {},
     "output_type": "execute_result"
    }
   ],
   "source": [
    "count_vec_models(X,y)"
   ]
  },
  {
   "cell_type": "code",
   "execution_count": 130,
   "metadata": {},
   "outputs": [],
   "source": [
    "X_train, X_test, y_train, y_test = train_test_split(X, y, test_size=0.2, stratify = y, random_state = 43)\n",
    "    \n",
    "tfidf = TfidfVectorizer()\n",
    "    \n",
    "X_train_tfidf = tfidf.fit_transform(X_train)\n",
    "X_test_tfidf = tfidf.transform(X_test)"
   ]
  },
  {
   "cell_type": "code",
   "execution_count": 131,
   "metadata": {},
   "outputs": [
    {
     "data": {
      "image/png": "[encoded data removed]",
      "text/plain": [
       "<Figure size 864x360 with 2 Axes>"
      ]
     },
     "metadata": {
      "needs_background": "light"
     },
     "output_type": "display_data"
    }
   ],
   "source": [
    "conf_matrix(MultinomialNB(), X_train_tfidf, X_test_tfidf, y_train, y_test, \"Multinomial\")"
   ]
  },
  {
   "cell_type": "markdown",
   "metadata": {},
   "source": [
    "# Grid Search"
   ]
  },
  {
   "cell_type": "code",
   "execution_count": 132,
   "metadata": {},
   "outputs": [],
   "source": [
    "from sklearn.pipeline import Pipeline\n",
    "from sklearn.feature_extraction.text import TfidfTransformer"
   ]
  },
  {
   "cell_type": "code",
   "execution_count": 133,
   "metadata": {},
   "outputs": [],
   "source": [
    "X_train, X_test, y_train, y_test = train_test_split(X, y, test_size=0.2, stratify = y, random_state = 43)"
   ]
  },
  {
   "cell_type": "code",
   "execution_count": 134,
   "metadata": {},
   "outputs": [
    {
     "name": "stdout",
     "output_type": "stream",
     "text": [
      "Fitting 5 folds for each of 48 candidates, totalling 240 fits\n"
     ]
    },
    {
     "name": "stderr",
     "output_type": "stream",
     "text": [
      "[Parallel(n_jobs=-1)]: Using backend LokyBackend with 4 concurrent workers.\n",
      "[Parallel(n_jobs=-1)]: Done  42 tasks      | elapsed:    9.4s\n",
      "[Parallel(n_jobs=-1)]: Done 192 tasks      | elapsed:   30.2s\n"
     ]
    },
    {
     "name": "stdout",
     "output_type": "stream",
     "text": [
      "\tclf__alpha: 0.028\n",
      "\tvect__max_df: 0.7\n",
      "\tvect__min_df: 2\n",
      "\tvect__ngram_range: (1, 1)\n"
     ]
    },
    {
     "name": "stderr",
     "output_type": "stream",
     "text": [
      "[Parallel(n_jobs=-1)]: Done 240 out of 240 | elapsed:   37.1s finished\n"
     ]
    }
   ],
   "source": [
    "classifier = Pipeline([('vect', CountVectorizer(lowercase=False)),\n",
    "                      ('tfidf', TfidfTransformer()),\n",
    "                      ('clf', MultinomialNB()),\n",
    "])\n",
    "\n",
    "parameters = {'vect__ngram_range': [(1, 1), (1, 2)],\n",
    "              'vect__max_df': ( 0.7,0.8,0.9,1.0),\n",
    "              'vect__min_df': (1,2),    \n",
    "              'clf__alpha': ( 0.022,0.025, 0.028),\n",
    "}\n",
    "gs_clf = GridSearchCV(classifier, parameters,n_jobs=-1, verbose=1,cv=5)\n",
    "gs_clf.fit(X_train, y_train)\n",
    "best_parameters = gs_clf.best_estimator_.get_params()\n",
    "for param_name in sorted(parameters.keys()):\n",
    "    print(\"\\t%s: %r\" % (param_name, best_parameters[param_name]))"
   ]
  },
  {
   "cell_type": "code",
   "execution_count": 135,
   "metadata": {},
   "outputs": [
    {
     "data": {
      "text/plain": [
       "0.7156851525121993"
      ]
     },
     "execution_count": 135,
     "metadata": {},
     "output_type": "execute_result"
    }
   ],
   "source": [
    "gs_clf.best_score_"
   ]
  },
  {
   "cell_type": "code",
   "execution_count": null,
   "metadata": {},
   "outputs": [],
   "source": []
  }
 ],
 "metadata": {
  "kernelspec": {
   "display_name": "Python 3",
   "language": "python",
   "name": "python3"
  },
  "language_info": {
   "codemirror_mode": {
    "name": "ipython",
    "version": 3
   },
   "file_extension": ".py",
   "mimetype": "text/x-python",
   "name": "python",
   "nbconvert_exporter": "python",
   "pygments_lexer": "ipython3",
   "version": "3.7.6"
  }
 },
 "nbformat": 4,
 "nbformat_minor": 4
}
